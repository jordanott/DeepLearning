{
 "cells": [
  {
   "cell_type": "markdown",
   "metadata": {},
   "source": [
    "# Prerequisites\n",
    "---"
   ]
  },
  {
   "cell_type": "markdown",
   "metadata": {},
   "source": [
    "**IMPORTANT:** If you're too good to read the beautifully put together review material skip to the bottom and make sure you're ready for the first day of class. **There are 5 test questions that are due on the first day and checks to make sure everything is properly installed.**\n",
    "\n",
    "The following notebook should *help* bring everyone up to speed on the content required for this course.  \n",
    "This is by no means a complete review and you should refer to outside sources for additional details.   \n",
    "\n",
    "The more time you spend preparing and practicing these concepts the more you'll get out of the course.  \n",
    "I imagine this will be a very demanding class, so a proper conceptual foundation is essential.\n",
    "\n",
    "* Linear Algebra\n",
    "    * Matrix Multiplication\n",
    "* Calculus\n",
    "    * Derivatives\n",
    "    * Partial Derivatives\n",
    "* Statistics\n",
    "    * Mean, variance, standard deviation\n",
    "* Probability\n",
    "    * Distributions\n",
    "    * Expectations\n",
    "    * Frequentist vs. Bayesian\n",
    "* Machine Learning\n",
    "* Programming\n",
    "    * **NOTE:** This is **not** a programming class\n",
    "        * Python is a *tool* we will be using to build arbitrary networks\n",
    "        * You should be comfortable to implement whatever mathematical equations/concepts in code\n",
    "    * Python\n",
    "    * Numpy\n",
    "    * Pandas\n",
    "    * Keras\n",
    "    * Jupyter Notebook/Lab"
   ]
  },
  {
   "cell_type": "code",
   "execution_count": 1,
   "metadata": {},
   "outputs": [],
   "source": [
    "import numpy as np"
   ]
  },
  {
   "cell_type": "markdown",
   "metadata": {},
   "source": [
    "# Linear Algebra\n",
    "---\n",
    "Of course I would encourage watching the full series but I'm sure most of you won't.  \n",
    "The most important videos are on [vectors](https://www.youtube.com/watch?v=fNk_zzaMoSs), [linear transformations](https://www.youtube.com/watch?v=kYB8IZa5AuE), and [matrix multiplication](https://www.youtube.com/watch?v=XkY2DOUCWMU&index=5). \n",
    "\n",
    "Pay attention to the intuitions of what happens to space when you perform a matrix multiplication.  \n",
    "This intuition helps in understanding neural networks and is unfortunately never mentioned in linear algebra courses. "
   ]
  },
  {
   "cell_type": "markdown",
   "metadata": {},
   "source": [
    "[![](https://i.ytimg.com/vi/kjBOesZCoqc/maxresdefault.jpg)](https://www.youtube.com/watch?v=kjBOesZCoqc&list=PL_w8oSr1JpVCZ5pKXHKz6PkjGCbPbSBYv)"
   ]
  },
  {
   "cell_type": "markdown",
   "metadata": {},
   "source": [
    "### Vectors and Matrices\n",
    "We can represent our data in a matrix. Where we have $N$ samples, each of which has $d$ features.\n",
    "\n",
    "\\begin{align}\n",
    "X &= \\begin{bmatrix}\n",
    "x_{11} & ... & x_{1d} \\\\\n",
    "\\vdots & \\vdots & \\vdots \\\\\n",
    "x_{N1} & ... & x_{Nd}\n",
    "\\end{bmatrix} \n",
    "\\end{align}\n",
    "\n",
    "Where $X_{i}$ represents the $i^{th}$ row in the matrix (i.e. a single data sample)\n",
    "\n",
    "\\begin{align}\n",
    "X_{i} &= \\begin{bmatrix}\n",
    "x_{i1} & ... & x_{id}\n",
    "\\end{bmatrix} \n",
    "\\end{align}\n",
    "\n",
    "To make this more concrete, let's look at the following data:\n",
    "\n",
    "We're interested in predicting how well a student will do in this class (Grade) based on how many hours they spent doing each of the following items over the summer. \n",
    "Here the data conists of 3 features: the number of hours a student spends studying, at the beach, and partying over the summer prior to their Deep Learning class in the Fall. \n",
    "\n",
    "Therefore, our input X is of dimension $4x3$ where $N=4$ and $d=3$.  \n",
    "The target variable we're interested in predicting, Y, is of dimension $4x1$ \n",
    "\n",
    "| Study (hrs) | Beach (hrs) | Partying (hrs) | Grade |\n",
    "| ----- |:-----:| -----:| -----:|\n",
    "| 10    | 52    | 100   |  58 |\n",
    "| 73    | 6     | 12    |  93 |\n",
    "| 14    | 19    | 21    |  78 |\n",
    "| 20    | 1     | 19    | 81  |\n",
    "\n",
    "\n",
    "### Matrix Multiplication\n",
    "You should be comfortable with matrix multiplication.  \n",
    "As and excersize I would recommend implementing matrix multiplication with *for loops* and again using *numpy* \n",
    "\n",
    "**Example:** Compute C\n",
    "\n",
    "\\begin{align}\n",
    "  A &= \\begin{bmatrix}\n",
    "    4 & 0 & 3 \\\\\n",
    "    1 & 7 & -1\n",
    "  \\end{bmatrix} \n",
    "  &\n",
    "  B &= \\begin{bmatrix}\n",
    "    3 & 1 \\\\\n",
    "    9 & -2 \\\\\n",
    "    4 & 3\n",
    "  \\end{bmatrix}\n",
    "\\end{align}\n",
    "\n",
    "\\begin{equation}\n",
    "    C = AB \n",
    "\\end{equation}\n",
    "\n",
    "\\begin{align}\n",
    "  C &= \\begin{bmatrix}\n",
    "    24 & 13 \\\\\n",
    "    62 & -16\n",
    "  \\end{bmatrix} \n",
    "\\end{align}"
   ]
  },
  {
   "cell_type": "code",
   "execution_count": 3,
   "metadata": {},
   "outputs": [],
   "source": [
    "# for loop implementation\n"
   ]
  },
  {
   "cell_type": "code",
   "execution_count": 4,
   "metadata": {},
   "outputs": [],
   "source": [
    "# numpy implementation\n",
    "\n",
    "# if this takes your more than 30 seconds to figure out please spend additional time practicing\n",
    "# very important!!"
   ]
  },
  {
   "cell_type": "markdown",
   "metadata": {},
   "source": [
    "# Calculus\n",
    "---\n",
    "Again, I'd recommend watching the whole series (it makes you a better human). \n",
    "\n",
    "Most important: \n",
    "* [Intro](https://www.youtube.com/watch?v=WUvTyaaNkzM&index=1&list=PL0-GT3co4r2wlh6UHTUeQsrf3mlS2lk6x)\n",
    "* [Paradox](https://www.youtube.com/watch?v=9vKqVkMQHKk&index=2&list=PL0-GT3co4r2wlh6UHTUeQsrf3mlS2lk6x)\n",
    "* [Geometric View](https://www.youtube.com/watch?v=S0_qX4VJhMQ&list=PL0-GT3co4r2wlh6UHTUeQsrf3mlS2lk6x&index=3)\n",
    "* [Chain Rule](https://www.youtube.com/watch?v=YG15m2VwSjA&list=PL0-GT3co4r2wlh6UHTUeQsrf3mlS2lk6x&index=4)"
   ]
  },
  {
   "cell_type": "markdown",
   "metadata": {},
   "source": [
    "[![](https://i.ytimg.com/vi/WUvTyaaNkzM/maxresdefault.jpg)](https://www.youtube.com/watch?v=WUvTyaaNkzM&list=PL0-GT3co4r2wlh6UHTUeQsrf3mlS2lk6x)"
   ]
  },
  {
   "cell_type": "markdown",
   "metadata": {},
   "source": [
    "### [Total Derivatives](https://www.khanacademy.org/math/ap-calculus-ab/ab-differentiation-1-new/ab-2-1/v/derivative-as-a-concept)\n",
    "\\begin{align}\n",
    "   f(x,y) = 2x + 3y \n",
    "\\end{align}  \n",
    "\\begin{align}\n",
    "   \\frac{d f(x,y)}{d x} = \\frac{d}{d x}2x+ \\frac{d}{d x}3y \n",
    "\\end{align}  \n",
    "\\begin{align}\n",
    "   \\frac{d f(x,y)}{d x}= 2+ 3\\frac{d y}{d x}\n",
    "\\end{align}\n",
    "\n",
    "### [Partial Derivatives](https://www.khanacademy.org/math/multivariable-calculus/multivariable-derivatives/partial-derivatives/v/partial-derivatives-introduction)\n",
    "\\begin{align}\n",
    "   f(x,y)=2x+3y \n",
    "\\end{align}  \n",
    "\\begin{align}\n",
    "   \\frac{\\partial f(x,y)}{\\partial x} = \\frac{\\partial(2x)}{\\partial x} + \\frac{\\partial(3y)}{\\partial x}\n",
    "\\end{align}  \n",
    "\\begin{align}\n",
    "   \\frac{\\partial f}{\\partial x} = 2 + 0\n",
    "\\end{align}\n",
    "   \n",
    "### [Chain Rule](https://www.khanacademy.org/math/ap-calculus-ab/ab-differentiation-2-new/ab-3-1a/v/chain-rule-introduction)\n",
    "\n",
    "\\begin{equation}\n",
    "   z = f(y)\n",
    "   \\hspace{10mm}\n",
    "   y = g(x) \n",
    "\\end{equation}  \n",
    "\\begin{equation}\n",
    "   \\frac{dz}{dx} = \\frac{dz}{dy}  \\frac{dy}{dx} = f'(y)g'(x) = f'(g(x))g'(x)\n",
    "\\end{equation}  \n",
    "\n",
    "**Example**\n",
    "\\begin{equation}\n",
    "   z = sin(y)\n",
    "   \\hspace{10mm}\n",
    "   y = x^2\n",
    "\\end{equation}  \n",
    "\\begin{equation}\n",
    "   z = sin(x^2) \n",
    "\\end{equation}  \n",
    "\\begin{equation}\n",
    "   \\frac{dz}{dx} = \\frac{dz}{dy}  \\frac{dy}{dx} = f'(y)g'(x) =  cos(x^2)\\times 2x\n",
    "\\end{equation}"
   ]
  },
  {
   "cell_type": "markdown",
   "metadata": {},
   "source": [
    "# Statistics\n",
    "---\n",
    "* Mean\n",
    "* Variance\n",
    "* Standard Deviation"
   ]
  },
  {
   "cell_type": "markdown",
   "metadata": {},
   "source": [
    "# Probability\n",
    "---\n",
    "* Distributions\n",
    "* [Expectations](https://seeing-theory.brown.edu/basic-probability/index.html)\n",
    "* Frequentist vs. Bayesian"
   ]
  },
  {
   "cell_type": "markdown",
   "metadata": {},
   "source": [
    "# [Machine Learning](https://sites.google.com/view/jordan-ott/home/teaching/cpsc-392-spring-2019?authuser=0)  \n",
    "---"
   ]
  },
  {
   "cell_type": "markdown",
   "metadata": {},
   "source": [
    "If you have not taken a machine learning/data science course please familiarize yourself with the following topics:\n",
    "\n",
    "* Supervised Learning\n",
    "    * Linear Regression\n",
    "    * Logistic Regression\n",
    "    * Bayes Theorem\n",
    "* Unsupervised Learning\n",
    "    * Kmeans\n",
    "    * Dimensionality Reduction\n",
    "* Error/Loss/Cost Functions\n",
    "    * Minimizing these\n",
    "* Bias Variance Tradeoff\n",
    "* Train/Validation/Test\n",
    "* Cross Validation\n",
    "* [Explaining Results](https://lilianweng.github.io/lil-log/2017/08/01/how-to-explain-the-prediction-of-a-machine-learning-model.html)"
   ]
  },
  {
   "cell_type": "markdown",
   "metadata": {},
   "source": [
    "# If you want to get a head start\n",
    "\n",
    "Check out these courses:\n",
    "* [Stanford CS231n](https://www.youtube.com/playlist?list=PL3FW7Lu3i5JvHM8ljYj-zLfQRF3EO8sYv)\n",
    "* [Nando's UBC Class](https://www.youtube.com/watch?v=w2OtwL5T1ow&list=PLE6Wd9FR--EdyJ5lbFl8UuGjecvVw66F6) (this guy is one of the best at explaining ML concepts)"
   ]
  },
  {
   "cell_type": "markdown",
   "metadata": {},
   "source": [
    "# Programming Skills\n",
    "---\n",
    "Please make sure you have the following items installed on your computer. We're all big kids now so I expect you can take care of this on your own.\n",
    "\n",
    "Be comfortable using ```pip install <package name>```\n",
    "\n",
    "* Python \n",
    "* Jupyter Notebook and/or Jupyter Lab\n",
    "* Numpy\n",
    "* Pandas\n",
    "* Matplotlib\n",
    "* Keras \n",
    "* Be comfortable using command prompt/terminal"
   ]
  },
  {
   "cell_type": "markdown",
   "metadata": {},
   "source": [
    "# Tutorials\n",
    "---\n",
    "* [Numpy](https://docs.scipy.org/doc/numpy/user/quickstart.html)\n",
    "* [Pandas](https://pandas.pydata.org/pandas-docs/stable/getting_started/10min.html)"
   ]
  },
  {
   "cell_type": "markdown",
   "metadata": {},
   "source": [
    "# Test\n",
    "---\n",
    "The following questions are due on the first day of class. Please bring them typed/printed-out/hand written to class.  \n",
    "\n",
    "1. $J(\\theta)$ is my cost function for linear regression. Write the form of this cost function (i.e. a math equation; there should be terms like $x,y,$ and $\\theta$ in your answer)  \n",
    "\n",
    "2. Derive the gradient for $J(\\theta)$ from question 1 with respect to $\\theta$.  \n",
    "\n",
    "3. a) What is the logistic function?  \n",
    "   b) How is it different than linear regression?  \n",
    "   c) What type of model is logistic regression?  \n",
    "   \n",
    "4. a) What cost function do we use for logistic regression?  \n",
    "   b) Is it the same for linear regression? Why or why not? (**Hint:** the word convexity should appear in your answer)\n",
    "   \n",
    "5. Write the following using `numpy`:  \n",
    "    Randomly generate the following matrices from a normal distribution\n",
    "    * $\\hat{y}$ and $y$ are matrices of shape $(1,10)$\n",
    "    * $X_2$ is of shape $(1,200)$\n",
    "    * $w$ is of shape $(200,10)$\n",
    "    * $b$ is of shape $(10)$\n",
    "    If you get stuck first figure out what shape the resulting matrices $G, U_w, U_b$ must have\n",
    "    \n",
    "    * $G = \\hat{y} - y$\n",
    "    * $U_{w} = X_2^T G$\n",
    "    * $U_{b} = \\sum_{i=0}^n G_i$ Do not use a for loop!\n",
    "    * $w = w - U_w$\n",
    "    * $b = b - U_b$"
   ]
  },
  {
   "cell_type": "markdown",
   "metadata": {},
   "source": [
    "# Installation Check\n",
    "---\n",
    "\n",
    "1. Open terminal\n",
    "2. If you're on a mac (make sure you have homebrew installed) run: `brew install cmake zlib `\n",
    "3. `pip install -r requirements.txt`\n",
    "4. ```python ready_for_class.py```\n",
    "\n",
    "\n",
    "# Errors\n",
    "If you find yourself running into errors installing these things check the following:\n",
    "* Are you using the right version of pip?\n",
    "    * `pip3.6` corresponds to `python3.6`\n",
    "* Are they recognized by your command prompt/terminal?\n",
    "* Do you know what a command prompt/terminal is?\n",
    "* Consult stack overflow/google\n",
    "    * Guarantee that someone else has run into the same issue"
   ]
  }
 ],
 "metadata": {
  "kernelspec": {
   "display_name": "Python 2",
   "language": "python",
   "name": "python2"
  },
  "language_info": {
   "codemirror_mode": {
    "name": "ipython",
    "version": 2
   },
   "file_extension": ".py",
   "mimetype": "text/x-python",
   "name": "python",
   "nbconvert_exporter": "python",
   "pygments_lexer": "ipython2",
   "version": "2.7.16"
  }
 },
 "nbformat": 4,
 "nbformat_minor": 2
}
