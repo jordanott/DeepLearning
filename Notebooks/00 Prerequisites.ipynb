{
 "cells": [
  {
   "cell_type": "markdown",
   "metadata": {},
   "source": [
    "# Prerequisites\n",
    "---"
   ]
  },
  {
   "cell_type": "markdown",
   "metadata": {},
   "source": [
    "The following notebook should help bring everyone up to speed on the content required for this course.  \n",
    "The more time you spend preparing and practicing these concepts the more you'll get out of the course.  \n",
    "I imagine this will be a very demanding class, so a proper conceptual foundation is essential.\n",
    "\n",
    "* Linear Algebra\n",
    "    * Matrix Multiplication\n",
    "* Calculus\n",
    "    * Derivatives\n",
    "    * Partial Derivatives\n",
    "* Statistics\n",
    "    * Mean, variance, standard deviation\n",
    "* Machine Learning\n",
    "* Programming\n",
    "    * **NOTE:** This is **not** a programming class. We're interested in building deep networks. You should be comfortable to implement whatever mathematical equations/concepts in python.\n",
    "    * Python\n",
    "    * Numpy\n",
    "    * Pandas\n",
    "    * Keras\n",
    "    * Jupyter Notebook/Lab"
   ]
  },
  {
   "cell_type": "code",
   "execution_count": 1,
   "metadata": {},
   "outputs": [],
   "source": [
    "import numpy as np\n",
    "from IPython.display import HTML"
   ]
  },
  {
   "cell_type": "markdown",
   "metadata": {},
   "source": [
    "# Linear Algebra\n",
    "---\n",
    "Of course I would encourage watching the full series but I'm sure most of you won't.  \n",
    "The most important videos are on [vectors](https://www.youtube.com/watch?v=fNk_zzaMoSs), [linear transformations](https://www.youtube.com/watch?v=kYB8IZa5AuE), and [matrix multiplication](https://www.youtube.com/watch?v=XkY2DOUCWMU&index=5). \n",
    "\n",
    "Pay attention to the intuitions of what happens to space when you perform a matrix multiplication.  \n",
    "This intuition helps in understanding neural networks and is unfortunately never mentioned in linear algebra courses. "
   ]
  },
  {
   "cell_type": "code",
   "execution_count": 2,
   "metadata": {},
   "outputs": [
    {
     "data": {
      "text/html": [
       "<iframe width=\"560\" height=\"315\" src=\"https://www.youtube.com/embed/kjBOesZCoqc\" frameborder=\"0\" allow=\"accelerometer; autoplay; encrypted-media; gyroscope; picture-in-picture\" allowfullscreen></iframe>"
      ],
      "text/plain": [
       "<IPython.core.display.HTML object>"
      ]
     },
     "execution_count": 2,
     "metadata": {},
     "output_type": "execute_result"
    }
   ],
   "source": [
    "HTML('<iframe width=\"560\" height=\"315\" src=\"https://www.youtube.com/embed/kjBOesZCoqc\" frameborder=\"0\" allow=\"accelerometer; autoplay; encrypted-media; gyroscope; picture-in-picture\" allowfullscreen></iframe>')"
   ]
  },
  {
   "cell_type": "markdown",
   "metadata": {},
   "source": [
    "### Vectors and Matrices\n",
    "We can represent our data in a matrix. Where we have $N$ samples, each of which has $d$ features.\n",
    "\\begin{align}\n",
    "X &= \\begin{bmatrix}\n",
    "x_{11} & ... & x_{1d} \\\\\n",
    "\\vdots & \\vdots & \\vdots \\\\\n",
    "x_{N1} & ... & x_{Nd}\n",
    "\\end{bmatrix} \n",
    "\\end{align}\n",
    "\n",
    "Where $X_{i}$ represents the $i^{th}$ row in the matrix (i.e. a single data sample)\n",
    "\n",
    "\\begin{align}\n",
    "X_{i} &= \\begin{bmatrix}\n",
    "x_{i1} & ... & x_{id}\n",
    "\\end{bmatrix} \n",
    "\\end{align}\n",
    "\n",
    "### Matrix Multiplication\n",
    "You should be comfortable with matrix multiplication.  \n",
    "As and excersize I would recommend implementing matrix multiplication with *for loops* and again using *numpy* \n",
    "\n",
    "**Example:** Compute C\n",
    "\n",
    "\\begin{align}\n",
    "  A &= \\begin{bmatrix}\n",
    "    4 & 0 & 3 \\\\\n",
    "    1 & 7 & -1\n",
    "  \\end{bmatrix} \n",
    "  &\n",
    "  B &= \\begin{bmatrix}\n",
    "    3 & 1 \\\\\n",
    "    9 & -2 \\\\\n",
    "    4 & 3\n",
    "  \\end{bmatrix}\n",
    "\\end{align}\n",
    "\n",
    "\\begin{equation}\n",
    "    C = AB \n",
    "\\end{equation}"
   ]
  },
  {
   "cell_type": "code",
   "execution_count": 3,
   "metadata": {},
   "outputs": [],
   "source": [
    "# for loop implementation\n"
   ]
  },
  {
   "cell_type": "code",
   "execution_count": 4,
   "metadata": {},
   "outputs": [],
   "source": [
    "# numpy implementation\n",
    "\n",
    "# if this takes your more than 30 seconds to figure out please spend additional time practicing\n",
    "# very important!!"
   ]
  },
  {
   "cell_type": "markdown",
   "metadata": {},
   "source": [
    "# Calculus\n",
    "---\n",
    "Again, I'd recommend watching the whole series (it makes you a better human). \n",
    "\n",
    "Most important: \n",
    "* [Intro](https://www.youtube.com/watch?v=WUvTyaaNkzM&index=1&list=PL0-GT3co4r2wlh6UHTUeQsrf3mlS2lk6x)\n",
    "* [Paradox](https://www.youtube.com/watch?v=9vKqVkMQHKk&index=2&list=PL0-GT3co4r2wlh6UHTUeQsrf3mlS2lk6x)\n",
    "* [Geometric View](https://www.youtube.com/watch?v=S0_qX4VJhMQ&list=PL0-GT3co4r2wlh6UHTUeQsrf3mlS2lk6x&index=3)\n",
    "* [Chain Rule](https://www.youtube.com/watch?v=YG15m2VwSjA&list=PL0-GT3co4r2wlh6UHTUeQsrf3mlS2lk6x&index=4)"
   ]
  },
  {
   "cell_type": "code",
   "execution_count": 5,
   "metadata": {},
   "outputs": [
    {
     "data": {
      "text/html": [
       "<iframe width=\"560\" height=\"315\" src=\"https://www.youtube.com/embed/WUvTyaaNkzM\" frameborder=\"0\" allow=\"accelerometer; autoplay; encrypted-media; gyroscope; picture-in-picture\" allowfullscreen></iframe>"
      ],
      "text/plain": [
       "<IPython.core.display.HTML object>"
      ]
     },
     "execution_count": 5,
     "metadata": {},
     "output_type": "execute_result"
    }
   ],
   "source": [
    "HTML('<iframe width=\"560\" height=\"315\" src=\"https://www.youtube.com/embed/WUvTyaaNkzM\" frameborder=\"0\" allow=\"accelerometer; autoplay; encrypted-media; gyroscope; picture-in-picture\" allowfullscreen></iframe>')"
   ]
  },
  {
   "cell_type": "markdown",
   "metadata": {},
   "source": [
    "### [Total Derivatives](https://www.khanacademy.org/math/ap-calculus-ab/ab-differentiation-1-new/ab-2-1/v/derivative-as-a-concept)\n",
    "\\begin{align}\n",
    "   f(x,y) = 2x + 3y \n",
    "\\end{align}  \n",
    "\\begin{align}\n",
    "   \\frac{d f(x,y)}{d x} = \\frac{d}{d x}2x+ \\frac{d}{d x}3y \n",
    "\\end{align}  \n",
    "\\begin{align}\n",
    "   \\frac{d f(x,y)}{d x}= 2+ 3\\frac{d y}{d x}\n",
    "\\end{align}\n",
    "\n",
    "### [Partial Derivatives](https://www.khanacademy.org/math/multivariable-calculus/multivariable-derivatives/partial-derivatives/v/partial-derivatives-introduction)\n",
    "\\begin{align}\n",
    "   f(x,y)=2x+3y \n",
    "\\end{align}  \n",
    "\\begin{align}\n",
    "   \\frac{\\partial f(x,y)}{\\partial x} = \\frac{\\partial(2x)}{\\partial x} + \\frac{\\partial(3y)}{\\partial x}\n",
    "\\end{align}  \n",
    "\\begin{align}\n",
    "   \\frac{\\partial f}{\\partial x} = 2 + 0\n",
    "\\end{align}\n",
    "   \n",
    "### [Chain Rule](https://www.khanacademy.org/math/ap-calculus-ab/ab-differentiation-2-new/ab-3-1a/v/chain-rule-introduction)\n",
    "\n",
    "\\begin{equation}\n",
    "   z = f(y)\n",
    "   \\hspace{10mm}\n",
    "   y = g(x) \n",
    "\\end{equation}  \n",
    "\\begin{equation}\n",
    "   \\frac{dz}{dx} = \\frac{dz}{dy}  \\frac{dy}{dx} = f'(y)g'(x) = f'(g(x))g'(x)\n",
    "\\end{equation}  \n",
    "\n",
    "**Example**\n",
    "\\begin{equation}\n",
    "   z = sin(y)\n",
    "   \\hspace{10mm}\n",
    "   y = x^2\n",
    "\\end{equation}  \n",
    "\\begin{equation}\n",
    "   z = sin(x^2) \n",
    "\\end{equation}  \n",
    "\\begin{equation}\n",
    "   \\frac{dz}{dx} = \\frac{dz}{dy}  \\frac{dy}{dx} = f'(y)g'(x) =  cos(x^2)\\times 2x\n",
    "\\end{equation}"
   ]
  },
  {
   "cell_type": "markdown",
   "metadata": {},
   "source": [
    "# Statistics\n",
    "---"
   ]
  },
  {
   "cell_type": "markdown",
   "metadata": {},
   "source": [
    "# [Machine Learning](https://sites.google.com/view/jordan-ott/home/teaching/cpsc-392-spring-2019?authuser=0)\n",
    "---"
   ]
  },
  {
   "cell_type": "markdown",
   "metadata": {},
   "source": [
    "If you have not taken a machine learning/data science course please familiarize yourself with the following topics:\n",
    "\n",
    "* Supervised Learning\n",
    "    * Linear Regression\n",
    "    * Logistic Regression\n",
    "    * Bayes Theorem\n",
    "* Unsupervised Learning\n",
    "    * Kmeans\n",
    "    * Dimensionality Reduction\n",
    "* Error/Loss/Cost Functions\n",
    "    * Minimizing these\n",
    "* Bias Variance Tradeoff\n",
    "* Train/Validation/Test\n",
    "* Cross Validation"
   ]
  },
  {
   "cell_type": "markdown",
   "metadata": {},
   "source": [
    "# Programming Skills\n",
    "---\n",
    "Please make sure you have the following items installed on your computer. We're all big kids now so I expect you can take care of this on your own.\n",
    "\n",
    "Be comfortable using ```pip install <package name>```\n",
    "\n",
    "* Python 3.6\n",
    "* Jupyter Notebook and/or Jupyter Lab\n",
    "* Numpy\n",
    "* Pandas\n",
    "* Matplotlib\n",
    "* Keras \n",
    "    * Requires tensorflow (only get the CPU version unless you know what you're doing)\n",
    "        * Requires Python 3.6\n",
    "* Be comfortable using command prompt/terminal\n",
    "        \n",
    "**Errors**  \n",
    "If you find yourself running into errors installing these things check the following:\n",
    "* Are you using the right version of pip?\n",
    "    * Pip3.6 corresponds to Python 3.6\n",
    "* Are they recognized by your command prompt/terminal?\n",
    "* Do you know what a command prompt/terminal is?\n",
    "* Consult stack over flow/google\n",
    "    * Guarantee that someone else has run into the same issue"
   ]
  },
  {
   "cell_type": "markdown",
   "metadata": {},
   "source": [
    "# Tutorials\n",
    "---\n",
    "* [Numpy](https://docs.scipy.org/doc/numpy/user/quickstart.html)\n",
    "* [Pandas](https://pandas.pydata.org/pandas-docs/stable/getting_started/10min.html)"
   ]
  },
  {
   "cell_type": "markdown",
   "metadata": {},
   "source": [
    "# Test\n",
    "---\n",
    "The following questions are due on the first day of class. Please bring them typed/printed-out/hand written to class.  \n",
    "\n",
    "1. $J(\\theta)$ is my cost function for linear regression. Write the form of this cost function (i.e. a math equation)  \n",
    "\n",
    "2. Derive the gradient for $J(\\theta)$ from question 1.  \n",
    "\n",
    "3. What is the logistic function?  \n",
    "\n",
    "4. a) What cost function do we use for logistic regression?  \n",
    "   b) Is it the same for linear regression? Why or why not?\n",
    "\n"
   ]
  }
 ],
 "metadata": {
  "kernelspec": {
   "display_name": "Python 2",
   "language": "python",
   "name": "python2"
  },
  "language_info": {
   "codemirror_mode": {
    "name": "ipython",
    "version": 2
   },
   "file_extension": ".py",
   "mimetype": "text/x-python",
   "name": "python",
   "nbconvert_exporter": "python",
   "pygments_lexer": "ipython2",
   "version": "2.7.15rc1"
  }
 },
 "nbformat": 4,
 "nbformat_minor": 2
}
