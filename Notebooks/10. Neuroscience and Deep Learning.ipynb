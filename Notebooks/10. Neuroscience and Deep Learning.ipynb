{
 "cells": [
  {
   "cell_type": "markdown",
   "metadata": {
    "slideshow": {
     "slide_type": "slide"
    }
   },
   "source": [
    "<center><div style=\"background-image: url(https://pbs.twimg.com/media/DKVzWlzWkAASYX-.jpg); background-repeat: no-repeat; background-size: contain; height: 700px; width: 1200px; \">\n",
    "\n",
    "<center><h1 color=\"white\"> <font color=\"white\">Neuroscience and Deep Learning</font> </h1>\n",
    "\n",
    "</div>"
   ]
  },
  {
   "cell_type": "markdown",
   "metadata": {
    "slideshow": {
     "slide_type": "slide"
    }
   },
   "source": [
    "# Neuroscience\n",
    "* Neuron anatomy\n",
    "* Synapses\n",
    "* Neurotransmitters\n",
    "* Parts of the brain"
   ]
  },
  {
   "cell_type": "markdown",
   "metadata": {
    "slideshow": {
     "slide_type": "slide"
    }
   },
   "source": [
    "# 2 Parts of the Brain\n",
    "<center><img src=\"http://www.cosmic-mindreach.com/images/old_new_brain_rev2.gif\" width=800>"
   ]
  },
  {
   "cell_type": "markdown",
   "metadata": {
    "slideshow": {
     "slide_type": "slide"
    }
   },
   "source": [
    "# Neocortex\n",
    "* Takes up 75% of the mass of the brain\n",
    "* Only appears in mamals"
   ]
  },
  {
   "cell_type": "markdown",
   "metadata": {
    "slideshow": {
     "slide_type": "slide"
    }
   },
   "source": [
    "# Human Brain"
   ]
  },
  {
   "cell_type": "markdown",
   "metadata": {
    "slideshow": {
     "slide_type": "fragment"
    }
   },
   "source": [
    "* $80x10^9$ neurons in the brain"
   ]
  },
  {
   "cell_type": "markdown",
   "metadata": {
    "slideshow": {
     "slide_type": "fragment"
    }
   },
   "source": [
    "* Each neuron connects to roughly $1,000$ other neurons"
   ]
  },
  {
   "cell_type": "markdown",
   "metadata": {
    "slideshow": {
     "slide_type": "fragment"
    }
   },
   "source": [
    "* $100x10^{12}$ connections in the brain"
   ]
  },
  {
   "cell_type": "markdown",
   "metadata": {
    "slideshow": {
     "slide_type": "fragment"
    }
   },
   "source": [
    "* $250 x 10^{9}$ stars in the Milky Way"
   ]
  },
  {
   "cell_type": "markdown",
   "metadata": {
    "slideshow": {
     "slide_type": "slide"
    }
   },
   "source": [
    "# Neurons\n",
    "* Pyramidal neurons\n",
    "    * 2/3 of all neurons in mamalian cortex\n",
    "* Glial cells\n",
    "    * "
   ]
  },
  {
   "cell_type": "markdown",
   "metadata": {
    "slideshow": {
     "slide_type": "slide"
    }
   },
   "source": [
    "# Deep Learning Neuron\n",
    "<img src=\"https://cdn-images-1.medium.com/max/1600/1*WRG_Re8vGVuHDYigtq2IBA.jpeg\">\n"
   ]
  },
  {
   "cell_type": "markdown",
   "metadata": {
    "slideshow": {
     "slide_type": "slide"
    }
   },
   "source": [
    "<center><img src=\"https://github.com/jordanott/DeepLearning/blob/master/Figures/pyramidal-neuron.png?raw=true\" width=800px>"
   ]
  },
  {
   "cell_type": "markdown",
   "metadata": {
    "slideshow": {
     "slide_type": "slide"
    }
   },
   "source": [
    "# Deep Learning Layers\n",
    "<center><img src=\"https://3qeqpr26caki16dnhd19sv6by6v-wpengine.netdna-ssl.com/wp-content/uploads/2017/08/Feed-forward-neural-network-with-two-hidden-layers.png\" width=600>\n",
    "    "
   ]
  },
  {
   "cell_type": "markdown",
   "metadata": {
    "slideshow": {
     "slide_type": "slide"
    }
   },
   "source": [
    "# Neocortex Layers\n",
    "<center><img src=\"https://ars.els-cdn.com/content/image/1-s2.0-S0166223615001757-gr1.jpg\" width=1000>"
   ]
  },
  {
   "cell_type": "markdown",
   "metadata": {
    "slideshow": {
     "slide_type": "slide"
    }
   },
   "source": [
    "<center><img src=\"https://www.researchgate.net/profile/Stewart_Shipp/publication/6257288/figure/fig2/AS:280713065713668@1443938618799/The-laminar-characteristics-of-ascending-and-descending-connections-along-a-serial_W640.jpg\" width=1000>\n",
    "<a href=\"https://www.cell.com/current-biology/pdf/S0960-9822(07)01148-7.pdf\">source</a>"
   ]
  },
  {
   "cell_type": "markdown",
   "metadata": {
    "slideshow": {
     "slide_type": "slide"
    }
   },
   "source": [
    "<center><img src=\"https://www.researchgate.net/profile/Stewart_Shipp/publication/6257288/figure/fig4/AS:645304445566978@1530863977881/figure-fig4_W640.jpg\" width=1000>\n",
    "\n",
    "<a href=\"https://www.cell.com/current-biology/pdf/S0960-9822(07)01148-7.pdf\">source</a>"
   ]
  },
  {
   "cell_type": "markdown",
   "metadata": {
    "slideshow": {
     "slide_type": "slide"
    }
   },
   "source": [
    "<center><img src=\"https://image.slidesharecdn.com/subutaiwaterloooct2018final-181003154358/95/have-we-missed-half-of-what-the-neocortex-does-a-new-predictive-framework-based-on-cortical-grid-cells-3-638.jpg?cb=1538581533\" width=1000>"
   ]
  },
  {
   "cell_type": "markdown",
   "metadata": {
    "slideshow": {
     "slide_type": "slide"
    }
   },
   "source": [
    "# Evidence for a Single Cortical Algorithm\n",
    "<center><img src=\"https://ars.els-cdn.com/content/image/3-s2.0-B9780080970868550144-f55014-01-9780080970868.jpg\" width=700>\n",
    "[Sur et al. 1999]"
   ]
  },
  {
   "cell_type": "code",
   "execution_count": 2,
   "metadata": {
    "slideshow": {
     "slide_type": "skip"
    }
   },
   "outputs": [],
   "source": [
    "from IPython.display import HTML"
   ]
  },
  {
   "cell_type": "markdown",
   "metadata": {
    "slideshow": {
     "slide_type": "slide"
    }
   },
   "source": [
    "# Seeing with your tongue "
   ]
  },
  {
   "cell_type": "code",
   "execution_count": 4,
   "metadata": {
    "scrolled": false
   },
   "outputs": [
    {
     "data": {
      "text/html": [
       "<iframe width=\"100%\" height=\"600\" src=\"https://www.youtube.com/embed/xNkw28fz9u0\" frameborder=\"0\" allow=\"accelerometer; autoplay; encrypted-media; gyroscope; picture-in-picture\" allowfullscreen></iframe>"
      ],
      "text/plain": [
       "<IPython.core.display.HTML object>"
      ]
     },
     "execution_count": 4,
     "metadata": {},
     "output_type": "execute_result"
    }
   ],
   "source": [
    "HTML('<iframe width=\"100%\" height=\"600\" src=\"https://www.youtube.com/embed/xNkw28fz9u0\" frameborder=\"0\" allow=\"accelerometer; autoplay; encrypted-media; gyroscope; picture-in-picture\" allowfullscreen></iframe>')"
   ]
  },
  {
   "cell_type": "markdown",
   "metadata": {
    "slideshow": {
     "slide_type": "slide"
    }
   },
   "source": [
    "# Properties of the Brain"
   ]
  },
  {
   "cell_type": "markdown",
   "metadata": {
    "slideshow": {
     "slide_type": "fragment"
    }
   },
   "source": [
    "* Distributed"
   ]
  },
  {
   "cell_type": "markdown",
   "metadata": {
    "slideshow": {
     "slide_type": "fragment"
    }
   },
   "source": [
    "* Sparsity\n",
    "    * Neurons communicate via spikes\n",
    "    * Only 2 - 20% of neurons are active at any given time"
   ]
  },
  {
   "cell_type": "markdown",
   "metadata": {
    "slideshow": {
     "slide_type": "fragment"
    }
   },
   "source": [
    "* Power efficient (runs on ~20W; roughly equivalent to a light bulb)"
   ]
  },
  {
   "cell_type": "markdown",
   "metadata": {
    "slideshow": {
     "slide_type": "slide"
    }
   },
   "source": [
    "<center><img src=\"https://o.aolcdn.com/images/dims?quality=85&image_uri=http%3A%2F%2Fo.aolcdn.com%2Fhss%2Fstorage%2Fmidas%2F64f5c0fa4cd3cdaee7906927a26f3b29%2F203536496%2Fyoutu.be-qUAmTYHEyM8%2B%25287%2529-1400.jpg&client=amp-blogside-v2&signature=9c5a5e7606ed5dc3da5ad52719e62c0d78af277c\">"
   ]
  },
  {
   "cell_type": "markdown",
   "metadata": {
    "slideshow": {
     "slide_type": "slide"
    }
   },
   "source": [
    "# Energy Usage\n",
    "* Lee Sedol uses ~20W\n",
    "* AlphaGo uses:\n",
    "    * 1920 CPUs\n",
    "    * 280 GPUs\n",
    "    * Roughly 1MW ($10^6$W)  \n",
    "[source](https://jacquesmattheij.com/another-way-of-looking-at-lee-sedol-vs-alphago/)"
   ]
  },
  {
   "cell_type": "markdown",
   "metadata": {
    "slideshow": {
     "slide_type": "slide"
    }
   },
   "source": [
    "# Neuroscience"
   ]
  },
  {
   "cell_type": "markdown",
   "metadata": {
    "slideshow": {
     "slide_type": "slide"
    }
   },
   "source": [
    "# Resting Membrane Potential\n",
    "<img src=\"https://s3-us-west-2.amazonaws.com/courses-images/wp-content/uploads/sites/1223/2017/02/07200318/Figure_35_02_02-768x1088.jpg\" width=450>"
   ]
  },
  {
   "cell_type": "markdown",
   "metadata": {
    "slideshow": {
     "slide_type": "notes"
    }
   },
   "source": [
    "The resting membrane potential is a result of different concentrations inside and outside the cell. The difference in the number of positively charged potassium ions (K+) inside and outside the cell dominates the resting membrane potential.\n",
    "\n",
    "When the membrane is at rest, K+ ions accumulate inside the cell due to a net movement with the concentration gradient. The negative resting membrane potential is created and maintained by increasing the concentration of cations outside the cell (in the extracellular fluid) relative to inside the cell (in the cytoplasm). The negative charge within the cell is created by the cell membrane being more permeable to potassium ion movement than sodium ion movement. In neurons, potassium ions are maintained at high concentrations within the cell while sodium ions are maintained at high concentrations outside of the cell. The cell possesses potassium and sodium leakage channels that allow the two cations to diffuse down their concentration gradient.\n",
    "\n",
    "However, the neurons have far more potassium leakage channels than sodium leakage channels. Therefore, potassium diffuses out of the cell at a much faster rate than sodium leaks in. Because more cations are leaving the cell than are entering, this causes the interior of the cell to be negatively charged relative to the outside of the cell. The actions of the sodium potassium pump help to maintain the resting potential, once established. Recall that sodium potassium pumps brings two K+ ions into the cell while removing three Na+ ions per ATP consumed. As more cations are expelled from the cell than taken in, the inside of the cell remains negatively charged relative to the extracellular fluid. It should be noted that calcium ions (Cl–) tend to accumulate outside of the cell because they are repelled by negatively-charged proteins within the cytoplasm."
   ]
  },
  {
   "cell_type": "markdown",
   "metadata": {
    "slideshow": {
     "slide_type": "slide"
    }
   },
   "source": [
    "# Action Potential\n",
    "<img src=\"https://www.moleculardevices.com/sites/default/files/images/page/what-is-action-potential.jpg\">"
   ]
  },
  {
   "cell_type": "markdown",
   "metadata": {
    "slideshow": {
     "slide_type": "slide"
    }
   },
   "source": [
    "# Synapses \n",
    "<center><img src=\"https://cdn.kastatic.org/ka-perseus-images/c2792e65f78b25734f78a5f34cd296104a2e5d86.png\" width=1200>"
   ]
  },
  {
   "cell_type": "markdown",
   "metadata": {
    "slideshow": {
     "slide_type": "slide"
    }
   },
   "source": [
    "# Hebbian Learning\n"
   ]
  },
  {
   "cell_type": "markdown",
   "metadata": {
    "slideshow": {
     "slide_type": "fragment"
    }
   },
   "source": [
    "\"When an axon of cell A is near enough to excite a cell B and repeatedly or persistently takes part in firing it, some growth process or metabolic change takes place in one or both cells such that A's efficiency, as one of the cells firing B, is increased\" - Donald Hebb 1949\n"
   ]
  },
  {
   "cell_type": "markdown",
   "metadata": {
    "slideshow": {
     "slide_type": "fragment"
    }
   },
   "source": [
    "* \"Neurons that *fire* together *wire* together\""
   ]
  },
  {
   "cell_type": "markdown",
   "metadata": {
    "slideshow": {
     "slide_type": "fragment"
    }
   },
   "source": [
    "* $w_{i,j} = w_{i,j} + \\alpha I_{i,j} O_{j}$"
   ]
  },
  {
   "cell_type": "markdown",
   "metadata": {
    "slideshow": {
     "slide_type": "notes"
    }
   },
   "source": [
    "* Synaptic weight connecting neuron $i$ to neuron $j$, $w_{i,j}$\n",
    "* Learning rate $\\alpha$\n",
    "* Input signal comming from neuron $i$ to neuron $j$, $I_{i,j}$ \n",
    "* The output of neuron $j$, $O_{j}$"
   ]
  },
  {
   "cell_type": "markdown",
   "metadata": {
    "slideshow": {
     "slide_type": "slide"
    }
   },
   "source": [
    "# Spike Time Dependent Plasticity (STDP)\n",
    "<img src=\"https://qph.fs.quoracdn.net/main-qimg-cab4fa190f35ec4906c1c307093e8884.webp\">"
   ]
  },
  {
   "cell_type": "markdown",
   "metadata": {
    "slideshow": {
     "slide_type": "slide"
    }
   },
   "source": [
    "# Long Term Potentiation (LTP)"
   ]
  },
  {
   "cell_type": "markdown",
   "metadata": {
    "slideshow": {
     "slide_type": "slide"
    }
   },
   "source": [
    "[![](https://ars.els-cdn.com/content/image/1-s2.0-S0960982297700733-gr1.jpg)](https://youtu.be/vso9jgfpI_c?t=116)"
   ]
  },
  {
   "cell_type": "markdown",
   "metadata": {
    "slideshow": {
     "slide_type": "slide"
    }
   },
   "source": [
    "# Locality of information"
   ]
  },
  {
   "cell_type": "markdown",
   "metadata": {},
   "source": [
    "* "
   ]
  },
  {
   "cell_type": "markdown",
   "metadata": {
    "slideshow": {
     "slide_type": "slide"
    }
   },
   "source": [
    "# Backprop\n",
    "* "
   ]
  },
  {
   "cell_type": "markdown",
   "metadata": {
    "slideshow": {
     "slide_type": "slide"
    }
   },
   "source": [
    "<center><img src=\"https://github.com/jordanott/DeepLearning/blob/master/Figures/Backprop.png?raw=true\" width=1000>"
   ]
  },
  {
   "cell_type": "markdown",
   "metadata": {
    "slideshow": {
     "slide_type": "slide"
    }
   },
   "source": [
    "# Feedback Alignment\n"
   ]
  },
  {
   "cell_type": "markdown",
   "metadata": {},
   "source": [
    "<img src=\"https://pic2.zhimg.com/v2-94e73ee1089f05d8c3381f7a7a6b8099_1200x500.jpg\" width=300>"
   ]
  },
  {
   "cell_type": "markdown",
   "metadata": {
    "slideshow": {
     "slide_type": "-"
    }
   },
   "source": [
    "[Lillicrap et al. 2016]"
   ]
  },
  {
   "cell_type": "markdown",
   "metadata": {
    "slideshow": {
     "slide_type": "slide"
    }
   },
   "source": [
    "<img src=\"https://www.researchgate.net/publication/309819314/figure/fig2/AS:613991231537176@1523398325879/Feedback-alignment-works-in-multilayer-networks-comprised-of-nonlinear-neurons-a-A.png\" width=700>"
   ]
  },
  {
   "cell_type": "markdown",
   "metadata": {
    "slideshow": {
     "slide_type": "-"
    }
   },
   "source": [
    "[Lillicrap et al. 2016]"
   ]
  },
  {
   "cell_type": "markdown",
   "metadata": {
    "slideshow": {
     "slide_type": "slide"
    }
   },
   "source": [
    "# Target Propagation\n",
    "\n",
    "<center><img src=\"https://pic4.zhimg.com/v2-cb81b80118f9f85307ec7f3a23a98827_b.jpg\" width=1000>"
   ]
  },
  {
   "cell_type": "markdown",
   "metadata": {
    "slideshow": {
     "slide_type": "notes"
    }
   },
   "source": [
    "In BP and DTP, the final layer target is used to compute a loss, and the gradients from this loss are shuttled backwards (through all layers, in BP, or just one layer, in DTP) in error propagation steps that do not influence actual neural activity. SDTP never transports gradients using error propagation steps, unlike DTP and BP."
   ]
  },
  {
   "cell_type": "markdown",
   "metadata": {
    "slideshow": {
     "slide_type": "slide"
    }
   },
   "source": [
    "# Rewards\n",
    "\n"
   ]
  },
  {
   "cell_type": "markdown",
   "metadata": {
    "slideshow": {
     "slide_type": "slide"
    }
   },
   "source": [
    "# Dopamine\n",
    "\n",
    "Neurotransmitter found in neurons whose cell bodies lie mainly\n",
    "in two clusters of neurons in the midbrain of mammals: \n",
    "* the substantia nigra pars compacta (SNpc) \n",
    "* the ventral tegmental area (VTA)"
   ]
  },
  {
   "cell_type": "markdown",
   "metadata": {
    "slideshow": {
     "slide_type": "fragment"
    }
   },
   "source": [
    "Critical to:\n",
    "* Motivation\n",
    "* Learning\n",
    "* Action-selection\n",
    "* Most forms of addiction\n",
    "* Disorders schizophrenia and Parkinson’s disease"
   ]
  },
  {
   "cell_type": "markdown",
   "metadata": {},
   "source": [
    "# Dopamine in Reinforcement Learning\n",
    "\n",
    "* Phasic responses of dopamine neurons signal **reward prediction errors**, not reward itself"
   ]
  },
  {
   "cell_type": "markdown",
   "metadata": {},
   "source": []
  },
  {
   "cell_type": "markdown",
   "metadata": {
    "slideshow": {
     "slide_type": "notes"
    }
   },
   "source": [
    "Dopamine is called a neuromodulator because it performs many functions other than direct fast excitation or inhibition of targeted neurons"
   ]
  },
  {
   "cell_type": "markdown",
   "metadata": {
    "slideshow": {
     "slide_type": "slide"
    }
   },
   "source": [
    "# Spiking Neural Networks\n",
    "\n",
    "<center><img src=\"https://eenews.cdnartwhere.eu/sites/default/files/styles/inner_article/public/sites/default/files/images/spikingneural630.jpg?itok=tOUGRUGh\" width=800>"
   ]
  },
  {
   "cell_type": "markdown",
   "metadata": {
    "slideshow": {
     "slide_type": "slide"
    }
   },
   "source": [
    "# Spiking Neural Networks"
   ]
  },
  {
   "cell_type": "code",
   "execution_count": 1,
   "metadata": {
    "slideshow": {
     "slide_type": "skip"
    }
   },
   "outputs": [],
   "source": [
    "from IPython.display import HTML"
   ]
  },
  {
   "cell_type": "code",
   "execution_count": 3,
   "metadata": {
    "scrolled": false
   },
   "outputs": [
    {
     "data": {
      "text/html": [
       "<iframe width=\"100%\" height=\"618\" src=\"https://www.youtube.com/embed/3JQ3hYko51Y\" frameborder=\"0\" allow=\"accelerometer; autoplay; encrypted-media; gyroscope; picture-in-picture\" allowfullscreen></iframe>"
      ],
      "text/plain": [
       "<IPython.core.display.HTML object>"
      ]
     },
     "execution_count": 3,
     "metadata": {},
     "output_type": "execute_result"
    }
   ],
   "source": [
    "HTML('<iframe width=\"100%\" height=\"618\" src=\"https://www.youtube.com/embed/3JQ3hYko51Y\" frameborder=\"0\" allow=\"accelerometer; autoplay; encrypted-media; gyroscope; picture-in-picture\" allowfullscreen></iframe>')"
   ]
  },
  {
   "cell_type": "markdown",
   "metadata": {},
   "source": [
    "CNN at 1:25, SNN at 2:00"
   ]
  },
  {
   "cell_type": "markdown",
   "metadata": {
    "slideshow": {
     "slide_type": "slide"
    }
   },
   "source": [
    "# Moore's \"Law\"\n",
    "\n",
    "<center><img src='https://upload.wikimedia.org/wikipedia/commons/thumb/8/8b/Moore%27s_Law_Transistor_Count_1971-2018.png/1280px-Moore%27s_Law_Transistor_Count_1971-2018.png' width=1000> "
   ]
  },
  {
   "cell_type": "markdown",
   "metadata": {
    "slideshow": {
     "slide_type": "notes"
    }
   },
   "source": [
    "[Gordon Moore](https://en.wikipedia.org/wiki/Gordon_Moore) (co-founder of Intel) noticed, in 1965, that the number of transistors per square inch on integrated circuits had doubled every year since the integrated circuit was invented. This is an observational extrapolation **not** a natural or physical law. [Carver Mead](https://en.wikipedia.org/wiki/Carver_Mead) a Cal Tech professor (inventor of the field of neuromorphics) popularized the term \"Moore's Law\"."
   ]
  },
  {
   "cell_type": "markdown",
   "metadata": {
    "slideshow": {
     "slide_type": "slide"
    }
   },
   "source": [
    "<center><img src='https://pbs.twimg.com/media/CaVMxQKVIAAEgZ-.jpg' width=1000>"
   ]
  },
  {
   "cell_type": "markdown",
   "metadata": {
    "slideshow": {
     "slide_type": "slide"
    }
   },
   "source": [
    "# Neuromorphics\n",
    "<center><img src='http://avlsi.csl.yale.edu/img/ScienceCover.png' width=500>"
   ]
  },
  {
   "cell_type": "markdown",
   "metadata": {
    "slideshow": {
     "slide_type": "slide"
    }
   },
   "source": [
    "# Types of invarience\n",
    "* Temporal \n",
    "* Noise \n",
    "* Size\n",
    "* Shape \n",
    "* Translational \n",
    "* Rotational\n",
    "* Equivariance"
   ]
  }
 ],
 "metadata": {
  "celltoolbar": "Slideshow",
  "kernelspec": {
   "display_name": "Python 2",
   "language": "python",
   "name": "python2"
  },
  "language_info": {
   "codemirror_mode": {
    "name": "ipython",
    "version": 2
   },
   "file_extension": ".py",
   "mimetype": "text/x-python",
   "name": "python",
   "nbconvert_exporter": "python",
   "pygments_lexer": "ipython2",
   "version": "2.7.12"
  }
 },
 "nbformat": 4,
 "nbformat_minor": 2
}
