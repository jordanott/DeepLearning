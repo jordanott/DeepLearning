{
 "cells": [
  {
   "cell_type": "markdown",
   "metadata": {
    "slideshow": {
     "slide_type": "slide"
    }
   },
   "source": [
    "# Convolutional Neural Networks"
   ]
  },
  {
   "cell_type": "markdown",
   "metadata": {},
   "source": [
    "<img src=\"https://img.devrant.com/devrant/rant/r_1376371_EWibJ.jpg\">"
   ]
  },
  {
   "cell_type": "markdown",
   "metadata": {
    "slideshow": {
     "slide_type": "slide"
    }
   },
   "source": [
    "# History"
   ]
  },
  {
   "cell_type": "markdown",
   "metadata": {},
   "source": [
    "<img src=\"https://scontent-sjc3-1.xx.fbcdn.net/v/t31.0-8/29663160_350326788794741_8613174572759534028_o.jpg?_nc_cat=102&_nc_oc=AQnMDomqk7LnXiW07nlDP3RLJTdr0M5jgOnTHBBo2OPkRMBUlIkqebI24ciImm7GvPm2hFq6y4MD1Q1WzusrZ1vR&_nc_ht=scontent-sjc3-1.xx&oh=d119e4b5db06bf6a5ebfc0bdaca45c18&oe=5DA5819C\" width=800>"
   ]
  },
  {
   "cell_type": "markdown",
   "metadata": {
    "slideshow": {
     "slide_type": "slide"
    }
   },
   "source": [
    "# Hubel and Wiesel "
   ]
  },
  {
   "cell_type": "markdown",
   "metadata": {
    "slideshow": {
     "slide_type": "-"
    }
   },
   "source": [
    "<img src=\"https://static1.squarespace.com/static/5c28a79ca9e0286061906e43/t/5c538d7ee5e5f0059e4fcba7/1549328072148/hubel-experiment.jpg\" width=500>"
   ]
  },
  {
   "cell_type": "markdown",
   "metadata": {
    "slideshow": {
     "slide_type": "fragment"
    }
   },
   "source": [
    "* 1959 Receptive fields of single neurons in the cat's striate cortex\n",
    "* 1962 Receptive fields, binocular interaction and functional architecutre in cat's visual cortex"
   ]
  },
  {
   "cell_type": "markdown",
   "metadata": {
    "slideshow": {
     "slide_type": "slide"
    }
   },
   "source": [
    "# Neocognitron\n"
   ]
  },
  {
   "cell_type": "markdown",
   "metadata": {},
   "source": [
    "<img src=\"https://www.researchgate.net/profile/Tugba_Erkoc/publication/323354835/figure/fig1/AS:601624254877707@1520449808379/The-structure-of-Neocognitron-16.png\">"
   ]
  },
  {
   "cell_type": "markdown",
   "metadata": {},
   "source": [
    "[Fukushima 1980]"
   ]
  },
  {
   "cell_type": "markdown",
   "metadata": {},
   "source": [
    "* Hierarchical architecture\n",
    "* Alternating between simple and complex cells"
   ]
  },
  {
   "cell_type": "markdown",
   "metadata": {
    "slideshow": {
     "slide_type": "slide"
    }
   },
   "source": [
    "# Backpropagation\n"
   ]
  },
  {
   "cell_type": "markdown",
   "metadata": {},
   "source": [
    "<img src=\"https://slideplayer.com/slide/775779/3/images/46/Back-propagation+of+error.jpg\" width=600>"
   ]
  },
  {
   "cell_type": "markdown",
   "metadata": {},
   "source": [
    "[[Rumelhart 1986]](https://web.stanford.edu/class/psych209a/ReadingsByDate/02_06/PDPVolIChapter8.pdf)"
   ]
  },
  {
   "cell_type": "markdown",
   "metadata": {
    "slideshow": {
     "slide_type": "slide"
    }
   },
   "source": [
    "# The First Convolutional Neural Network"
   ]
  },
  {
   "cell_type": "markdown",
   "metadata": {},
   "source": [
    "<img src=\"https://miro.medium.com/max/2625/1*1TI1aGBZ4dybR6__DI9dzA.png\">"
   ]
  },
  {
   "cell_type": "markdown",
   "metadata": {
    "slideshow": {
     "slide_type": "-"
    }
   },
   "source": [
    "[LeCun, Bottou, Bengio, Haffner 1998]"
   ]
  },
  {
   "cell_type": "markdown",
   "metadata": {
    "slideshow": {
     "slide_type": "slide"
    }
   },
   "source": [
    "# ImageNet Classification with Deep Convolutional Neural Networks"
   ]
  },
  {
   "cell_type": "markdown",
   "metadata": {},
   "source": [
    "<img src=\"https://miro.medium.com/max/1838/1*qyc21qM0oxWEuRaj-XJKcw.png\">"
   ]
  },
  {
   "cell_type": "markdown",
   "metadata": {},
   "source": [
    "[Krizhevsky, Sutskever, Hinton, 2012]"
   ]
  },
  {
   "cell_type": "markdown",
   "metadata": {
    "slideshow": {
     "slide_type": "slide"
    }
   },
   "source": [
    "<img src=\"https://github.com/jordanott/DeepLearning/blob/master/Figures/imagenet_results.png?raw=true\" width=600>"
   ]
  },
  {
   "cell_type": "markdown",
   "metadata": {},
   "source": [
    "(Fei-Fei Li & Justin Johnson & Serena Yeung, 2018)"
   ]
  },
  {
   "cell_type": "markdown",
   "metadata": {
    "slideshow": {
     "slide_type": "slide"
    }
   },
   "source": [
    "<img src=\"https://github.com/jordanott/DeepLearning/blob/master/Figures/imagenet_networks.png?raw=true\" width=600>"
   ]
  },
  {
   "cell_type": "markdown",
   "metadata": {},
   "source": [
    "(Fei-Fei Li & Justin Johnson & Serena Yeung, 2018)"
   ]
  },
  {
   "cell_type": "markdown",
   "metadata": {
    "slideshow": {
     "slide_type": "slide"
    }
   },
   "source": [
    "# Image Classification\n",
    "![](https://adeshpande3.github.io/assets/Cover.png)"
   ]
  },
  {
   "cell_type": "markdown",
   "metadata": {
    "slideshow": {
     "slide_type": "slide"
    }
   },
   "source": [
    "# Image Segmentation\n",
    "![](https://cdn-images-1.medium.com/max/1600/1*hf6J8vsX7gmHhZnbPa4y9g.png)"
   ]
  },
  {
   "cell_type": "markdown",
   "metadata": {
    "slideshow": {
     "slide_type": "slide"
    }
   },
   "source": [
    "# Object Localization\n",
    "![](https://cdn-images-1.medium.com/max/1200/1*dl42dsy6JIsUe9MilzL8NQ.jpeg)"
   ]
  },
  {
   "cell_type": "markdown",
   "metadata": {
    "slideshow": {
     "slide_type": "slide"
    }
   },
   "source": [
    "# Self Driving Cars\n",
    "[![](https://cdn0.vox-cdn.com/thumbor/DQO2LEJimhQ72ZHWA-EVA7vBVhs=/cdn2.vox-cdn.com/uploads/chorus_asset/file/7536511/ALVINN_screengrab.png)](https://www.youtube.com/watch?v=ilP4aPDTBPE)"
   ]
  },
  {
   "cell_type": "markdown",
   "metadata": {
    "slideshow": {
     "slide_type": "slide"
    }
   },
   "source": [
    "# Video Games\n",
    "![](https://skymind.ai/images/wiki/conv_agent.png)"
   ]
  },
  {
   "cell_type": "markdown",
   "metadata": {
    "slideshow": {
     "slide_type": "slide"
    }
   },
   "source": [
    "![](https://cdn-images-1.medium.com/max/1200/1*HNNByk8nAduVThhOVZtddg.jpeg)"
   ]
  },
  {
   "cell_type": "markdown",
   "metadata": {
    "slideshow": {
     "slide_type": "slide"
    }
   },
   "source": [
    "## What happens if we use this for images? \n",
    "![](https://github.com/jordanott/CNN-Lecture/raw/de1b8c4047b3e3ae41b1a863cf306187578a9d59/Images/deep.png)"
   ]
  },
  {
   "cell_type": "code",
   "execution_count": 1,
   "metadata": {
    "slideshow": {
     "slide_type": "skip"
    }
   },
   "outputs": [
    {
     "name": "stderr",
     "output_type": "stream",
     "text": [
      "/usr/local/lib/python2.7/dist-packages/h5py/__init__.py:34: FutureWarning: Conversion of the second argument of issubdtype from `float` to `np.floating` is deprecated. In future, it will be treated as `np.float64 == np.dtype(float).type`.\n",
      "  from ._conv import register_converters as _register_converters\n",
      "Using TensorFlow backend.\n"
     ]
    }
   ],
   "source": [
    "import numpy as np\n",
    "import matplotlib.pyplot as plt\n",
    "from keras.datasets import mnist\n",
    "\n",
    "(x_train, y_train), (x_test, y_test) = mnist.load_data()\n",
    "\n",
    "def flatten_image():\n",
    "    plt.figure(figsize=(20,8))\n",
    "    plt.subplot(1,2,1)\n",
    "    plt.imshow(x_train[0])\n",
    "    plt.xticks([]); plt.yticks([])\n",
    "    plt.title('28x28 Image')\n",
    "    plt.subplot(1,2,2)\n",
    "    plt.imshow(x_train[0].reshape(1,-1)[:,::10])\n",
    "    plt.xticks([]); plt.yticks([])\n",
    "    plt.title('1x784 Vector')\n",
    "    plt.show()"
   ]
  },
  {
   "cell_type": "markdown",
   "metadata": {
    "slideshow": {
     "slide_type": "slide"
    }
   },
   "source": [
    "# Images have spatial information"
   ]
  },
  {
   "cell_type": "code",
   "execution_count": 2,
   "metadata": {
    "scrolled": false,
    "slideshow": {
     "slide_type": "-"
    }
   },
   "outputs": [
    {
     "data": {
      "image/png": "[encoded data removed]",
      "text/plain": [
       "<matplotlib.figure.Figure at 0x7f0f483b2050>"
      ]
     },
     "metadata": {},
     "output_type": "display_data"
    }
   ],
   "source": [
    "flatten_image()"
   ]
  },
  {
   "cell_type": "markdown",
   "metadata": {
    "slideshow": {
     "slide_type": "slide"
    }
   },
   "source": [
    "# Animation\n",
    "![](https://cdn-images-1.medium.com/max/1600/1*L4T6IXRalWoseBncjRr4wQ@2x.gif)"
   ]
  },
  {
   "cell_type": "markdown",
   "metadata": {
    "slideshow": {
     "slide_type": "slide"
    }
   },
   "source": [
    "# Convolution\n",
    "\\begin{align} \n",
    "\\theta &= \\begin{bmatrix}\n",
    "       \\theta_{11} & \\theta_{12} & \\theta_{13} \\\\\n",
    "       \\theta_{21} & \\theta_{22} & \\theta_{23}\\\\\n",
    "       \\theta_{31} & \\theta_{32} & \\theta_{33}\n",
    "     \\end{bmatrix} \n",
    "     \\hspace{20mm}\n",
    "     X &= \\begin{bmatrix}\n",
    "       X_{11} & ... & X_{1w} \\\\\n",
    "       X_{21} & ... & X_{2w}\\\\\n",
    "       \\vdots & \\vdots & \\vdots \\\\\n",
    "       X_{h1} & ... & X_{hw}\n",
    "     \\end{bmatrix}\n",
    "\\end{align}\n",
    "* $X$: Image with height, $h$, width, $w$, and depth (color channels; RGB), $d$\n",
    "* $\\theta$: Weight matrix (kernel, filter)"
   ]
  },
  {
   "cell_type": "markdown",
   "metadata": {
    "slideshow": {
     "slide_type": "fragment"
    }
   },
   "source": [
    "* Slide our weight matrix over $X$ and perform a multiplication at each location"
   ]
  },
  {
   "cell_type": "markdown",
   "metadata": {
    "slideshow": {
     "slide_type": "fragment"
    }
   },
   "source": [
    "* Refered to as convolving"
   ]
  },
  {
   "cell_type": "markdown",
   "metadata": {
    "slideshow": {
     "slide_type": "slide"
    }
   },
   "source": [
    "# Output of Convolution\n",
    "\\begin{align} \n",
    "     \\begin{bmatrix}\n",
    "       \\theta_{11}X_{11} + ... \\theta_{33}X_{33} & ... & \\theta_{11}X_{1w-3} + ... \\theta_{33}X_{3w} \\\\\n",
    "       \\vdots & \\vdots & \\vdots \\\\\n",
    "       \\theta_{11}X_{h-3,1} + ... \\theta_{33}X_{h3} & ... & \\theta_{11}X_{h-3w-3} + ... \\theta_{33}X_{hw}\n",
    "     \\end{bmatrix}\n",
    "\\end{align}"
   ]
  },
  {
   "cell_type": "markdown",
   "metadata": {
    "slideshow": {
     "slide_type": "slide"
    }
   },
   "source": [
    "# Convolution Visualization\n",
    "![](https://cdn-images-1.medium.com/max/1600/1*EuSjHyyDRPAQUdKCKLTgIQ.png)"
   ]
  },
  {
   "cell_type": "markdown",
   "metadata": {
    "slideshow": {
     "slide_type": "slide"
    }
   },
   "source": [
    "<img src=\"https://github.com/jordanott/CNN-Lecture/raw/de1b8c4047b3e3ae41b1a863cf306187578a9d59/Images/convolution.png\" width=\"650\">"
   ]
  },
  {
   "cell_type": "markdown",
   "metadata": {
    "slideshow": {
     "slide_type": "slide"
    }
   },
   "source": [
    "# Calculating Output Dimensions\n",
    "\n",
    "\\begin{equation}\n",
    "    W_O = \\frac{(W_I - K + 2P)}{S} + 1\n",
    "\\end{equation}\n",
    "\n",
    "\\begin{equation}\n",
    "    H_O = \\frac{(H_I - K + 2P)}{S} + 1\n",
    "\\end{equation}\n",
    "\n",
    "\\begin{equation}\n",
    "    D_O = F\n",
    "\\end{equation}\n",
    "\n",
    "* $W_I, W_O$: width of input and output, respectively\n",
    "* $K$: dimesnion of filter\n",
    "* $F$: number of kernels\n",
    "* $S$: stride amount\n",
    "* $P$: padding amount\n",
    "* $D$: volume depth"
   ]
  },
  {
   "cell_type": "code",
   "execution_count": 3,
   "metadata": {
    "slideshow": {
     "slide_type": "fragment"
    }
   },
   "outputs": [],
   "source": [
    "def calc_conv_output_dim(in_shape, kernel_shape, padding, stride):\n",
    "    h_out = (in_shape[0] - kernel_shape[0] + 2*padding) / stride + 1\n",
    "    w_out = (in_shape[1] - kernel_shape[1] + 2*padding) / stride + 1\n",
    "    d_out = kernel_shape[2]\n",
    "    \n",
    "    return (h_out, w_out, d_out)"
   ]
  },
  {
   "cell_type": "markdown",
   "metadata": {
    "slideshow": {
     "slide_type": "slide"
    }
   },
   "source": [
    "# Convolution by Hand"
   ]
  },
  {
   "cell_type": "code",
   "execution_count": 4,
   "metadata": {
    "slideshow": {
     "slide_type": "fragment"
    }
   },
   "outputs": [],
   "source": [
    "# set conv layer params\n",
    "kernel_size = 3; num_filters = 32; stride = 1; padding = 0\n",
    "# init weight kernel\n",
    "w = np.random.randn(kernel_size, kernel_size, num_filters)\n",
    "# get input\n",
    "x = x_train[0].reshape(28,28,1)\n",
    "\n",
    "# calculate output shape\n",
    "out_shape = calc_conv_output_dim(x.shape, w.shape, padding, stride)\n",
    "output = np.zeros(shape=out_shape)\n",
    "\n",
    "for row in range(output.shape[0]): # iterate through image rows\n",
    "    for col in range(output.shape[1]): # iterate through image cols\n",
    "        # multiply weights with image\n",
    "        tmp = w * x[row: row+kernel_size, col: col+kernel_size]\n",
    "        # sum\n",
    "        output[row,col] = tmp.sum(axis=0).sum(axis=0)"
   ]
  },
  {
   "cell_type": "markdown",
   "metadata": {
    "slideshow": {
     "slide_type": "slide"
    }
   },
   "source": [
    "# Visualize Output Volumes"
   ]
  },
  {
   "cell_type": "code",
   "execution_count": 5,
   "metadata": {},
   "outputs": [
    {
     "data": {
      "image/png": "[encoded data removed]",
      "text/plain": [
       "<matplotlib.figure.Figure at 0x7f0f48409a10>"
      ]
     },
     "metadata": {},
     "output_type": "display_data"
    }
   ],
   "source": [
    "plt.figure(figsize=(20,8))\n",
    "for i in range(1,33):\n",
    "    plt.subplot(4,8,i); plt.title('Kernel: %d' %i)\n",
    "    plt.imshow(output[:,:,i-1]); plt.xticks([]); plt.yticks([])"
   ]
  },
  {
   "cell_type": "markdown",
   "metadata": {
    "slideshow": {
     "slide_type": "slide"
    }
   },
   "source": [
    "# Activations"
   ]
  },
  {
   "cell_type": "code",
   "execution_count": 6,
   "metadata": {},
   "outputs": [
    {
     "data": {
      "image/png": "[encoded data removed]",
      "text/plain": [
       "<matplotlib.figure.Figure at 0x7f0e8df19950>"
      ]
     },
     "metadata": {},
     "output_type": "display_data"
    }
   ],
   "source": [
    "def relu(z): return np.maximum(0,z)\n",
    "plt.figure(figsize=(20,8))\n",
    "for i in range(1,33):\n",
    "    plt.subplot(4,8,i); plt.title('Kernel: %d' %i)\n",
    "    plt.imshow(relu(output[:,:,i-1])); plt.xticks([]); plt.yticks([])"
   ]
  },
  {
   "cell_type": "markdown",
   "metadata": {
    "slideshow": {
     "slide_type": "slide"
    }
   },
   "source": [
    "# Padding\n",
    "* What happens to the size of our output everytime we do a convolution?"
   ]
  },
  {
   "cell_type": "markdown",
   "metadata": {
    "slideshow": {
     "slide_type": "fragment"
    }
   },
   "source": [
    "* Add border of zeros to maintain same volume shape"
   ]
  },
  {
   "cell_type": "markdown",
   "metadata": {
    "slideshow": {
     "slide_type": "fragment"
    }
   },
   "source": [
    "<img src=\"https://github.com/jordanott/DeepLearning/blob/master/Figures/padding.gif?raw=true\" width=600>"
   ]
  },
  {
   "cell_type": "markdown",
   "metadata": {
    "slideshow": {
     "slide_type": "slide"
    }
   },
   "source": [
    "# Pooling"
   ]
  },
  {
   "cell_type": "markdown",
   "metadata": {},
   "source": [
    "![](https://github.com/jordanott/CNN-Lecture/raw/de1b8c4047b3e3ae41b1a863cf306187578a9d59/Images/pooling.png)"
   ]
  },
  {
   "cell_type": "markdown",
   "metadata": {
    "slideshow": {
     "slide_type": "fragment"
    }
   },
   "source": [
    "* Downsampling\n",
    "* Reduce number of parameters in network"
   ]
  },
  {
   "cell_type": "markdown",
   "metadata": {
    "slideshow": {
     "slide_type": "slide"
    }
   },
   "source": [
    "# Calculating Output Dimensions\n",
    "\n",
    "\\begin{equation}\n",
    "    W_O = \\frac{(W_I - K)}{S} + 1\n",
    "\\end{equation}\n",
    "\n",
    "\\begin{equation}\n",
    "    H_O = \\frac{(H_I - K)}{S} + 1\n",
    "\\end{equation}\n",
    "\n",
    "\\begin{equation}\n",
    "    D_O = D_I\n",
    "\\end{equation}\n",
    "\n",
    "* $W_I, W_O$: width of input and output, respectively\n",
    "* $K$: dimesnion of filter\n",
    "* $S$: stride amount\n",
    "* $D$: volume depth"
   ]
  },
  {
   "cell_type": "markdown",
   "metadata": {
    "slideshow": {
     "slide_type": "slide"
    }
   },
   "source": [
    "# Flattening"
   ]
  },
  {
   "cell_type": "code",
   "execution_count": 7,
   "metadata": {
    "slideshow": {
     "slide_type": "fragment"
    }
   },
   "outputs": [
    {
     "name": "stdout",
     "output_type": "stream",
     "text": [
      "Original: (26, 26, 32) Flattened: (1, 21632)\n"
     ]
    }
   ],
   "source": [
    "original_shape = output.shape\n",
    "flattened_shape = output.reshape(1,-1).shape\n",
    "\n",
    "print 'Original:', original_shape, 'Flattened:', flattened_shape"
   ]
  },
  {
   "cell_type": "markdown",
   "metadata": {
    "slideshow": {
     "slide_type": "slide"
    }
   },
   "source": [
    "# Fully Connected\n",
    "* Used for classification/regression output\n",
    "![](https://sds-platform-private.s3-us-east-2.amazonaws.com/uploads/74_blog_image_2.png)"
   ]
  },
  {
   "cell_type": "markdown",
   "metadata": {
    "slideshow": {
     "slide_type": "slide"
    }
   },
   "source": [
    "# Complete architecture"
   ]
  },
  {
   "cell_type": "markdown",
   "metadata": {
    "slideshow": {
     "slide_type": "fragment"
    }
   },
   "source": [
    "![](https://github.com/jordanott/CNN-Lecture/raw/de1b8c4047b3e3ae41b1a863cf306187578a9d59/Images/cnn.jpg)"
   ]
  },
  {
   "cell_type": "markdown",
   "metadata": {
    "slideshow": {
     "slide_type": "slide"
    }
   },
   "source": [
    "# CNN Properties\n",
    "* Weights are shared across space\n",
    "* Provides basis for translational invariance"
   ]
  },
  {
   "cell_type": "markdown",
   "metadata": {
    "slideshow": {
     "slide_type": "slide"
    }
   },
   "source": [
    "# Class Activation Mapping\n",
    "![](http://ift.tt/2bCVSkt)"
   ]
  },
  {
   "cell_type": "markdown",
   "metadata": {
    "slideshow": {
     "slide_type": "slide"
    }
   },
   "source": [
    "# Imports"
   ]
  },
  {
   "cell_type": "code",
   "execution_count": 8,
   "metadata": {
    "scrolled": true
   },
   "outputs": [],
   "source": [
    "import keras\n",
    "from keras.datasets import mnist\n",
    "from keras.models import Sequential\n",
    "from keras.layers import Dense, Conv2D, Flatten\n",
    "from keras.optimizers import SGD"
   ]
  },
  {
   "cell_type": "markdown",
   "metadata": {
    "slideshow": {
     "slide_type": "slide"
    }
   },
   "source": [
    "# Set parameters"
   ]
  },
  {
   "cell_type": "code",
   "execution_count": 9,
   "metadata": {},
   "outputs": [],
   "source": [
    "# 128 images in each batch\n",
    "batch_size = 128\n",
    "# 0-9 numbered images\n",
    "num_classes = 10\n",
    "# train for 20 steps\n",
    "epochs = 5"
   ]
  },
  {
   "cell_type": "markdown",
   "metadata": {
    "slideshow": {
     "slide_type": "slide"
    }
   },
   "source": [
    "# Load the data"
   ]
  },
  {
   "cell_type": "code",
   "execution_count": 10,
   "metadata": {},
   "outputs": [],
   "source": [
    "(x_train, y_train), (x_test, y_test) = mnist.load_data()"
   ]
  },
  {
   "cell_type": "markdown",
   "metadata": {},
   "source": [
    "<img src=\"https://camo.githubusercontent.com/d440ac2eee1cb3ea33340a2c5f6f15a0878e9275/687474703a2f2f692e7974696d672e636f6d2f76692f3051493378675875422d512f687164656661756c742e6a7067\">"
   ]
  },
  {
   "cell_type": "markdown",
   "metadata": {},
   "source": [
    "# Formatting\n"
   ]
  },
  {
   "cell_type": "code",
   "execution_count": 11,
   "metadata": {
    "slideshow": {
     "slide_type": "slide"
    }
   },
   "outputs": [
    {
     "name": "stdout",
     "output_type": "stream",
     "text": [
      "(60000, 'train samples')\n",
      "(10000, 'test samples')\n"
     ]
    }
   ],
   "source": [
    "# flatten the data\n",
    "x_train = x_train.reshape(-1, 28,28,1)\n",
    "x_test = x_test.reshape(-1, 28,28,1)\n",
    "\n",
    "x_train = x_train.astype('float32')\n",
    "x_test = x_test.astype('float32')\n",
    "\n",
    "# Scale the data to be between 0 and 1\n",
    "x_train /= 255.\n",
    "x_test /= 255.\n",
    "\n",
    "print(x_train.shape[0], 'train samples')\n",
    "print(x_test.shape[0], 'test samples')\n",
    "\n",
    "# convert class vectors to binary class matrices\n",
    "y_train = keras.utils.to_categorical(y_train, num_classes)\n",
    "y_test = keras.utils.to_categorical(y_test, num_classes)"
   ]
  },
  {
   "cell_type": "markdown",
   "metadata": {
    "slideshow": {
     "slide_type": "slide"
    }
   },
   "source": [
    "# Create the model"
   ]
  },
  {
   "cell_type": "code",
   "execution_count": 12,
   "metadata": {},
   "outputs": [
    {
     "name": "stdout",
     "output_type": "stream",
     "text": [
      "_________________________________________________________________\n",
      "Layer (type)                 Output Shape              Param #   \n",
      "=================================================================\n",
      "conv2d_1 (Conv2D)            (None, 26, 26, 32)        320       \n",
      "_________________________________________________________________\n",
      "conv2d_2 (Conv2D)            (None, 24, 24, 32)        9248      \n",
      "_________________________________________________________________\n",
      "flatten_1 (Flatten)          (None, 18432)             0         \n",
      "_________________________________________________________________\n",
      "dense_1 (Dense)              (None, 512)               9437696   \n",
      "_________________________________________________________________\n",
      "dense_2 (Dense)              (None, 10)                5130      \n",
      "=================================================================\n",
      "Total params: 9,452,394\n",
      "Trainable params: 9,452,394\n",
      "Non-trainable params: 0\n",
      "_________________________________________________________________\n"
     ]
    }
   ],
   "source": [
    "model = Sequential()\n",
    "model.add(Conv2D(32, kernel_size=(3,3), strides=(1,1), activation='relu', input_shape=(28,28,1)))\n",
    "\n",
    "model.add(Conv2D(32, kernel_size=(3,3), strides=(1,1), activation='relu'))\n",
    "model.add(Flatten())\n",
    "model.add(Dense(512, activation='relu'))\n",
    "model.add(Dense(num_classes, activation='softmax'))\n",
    "\n",
    "model.compile(loss='categorical_crossentropy', optimizer=SGD(), metrics=['accuracy'])\n",
    "\n",
    "\n",
    "model.summary()"
   ]
  },
  {
   "cell_type": "code",
   "execution_count": 13,
   "metadata": {
    "slideshow": {
     "slide_type": "slide"
    }
   },
   "outputs": [
    {
     "data": {
      "image/svg+xml": [
       "<svg height=\"410pt\" viewBox=\"0.00 0.00 131.00 410.00\" width=\"131pt\" xmlns=\"http://www.w3.org/2000/svg\" xmlns:xlink=\"http://www.w3.org/1999/xlink\">\n",
       "<g class=\"graph\" id=\"graph0\" transform=\"scale(1 1) rotate(0) translate(4 406)\">\n",
       "<title>G</title>\n",
       "<polygon fill=\"white\" points=\"-4,4 -4,-406 127,-406 127,4 -4,4\" stroke=\"none\"/>\n",
       "<!-- 139700492646352 -->\n",
       "<g class=\"node\" id=\"node1\"><title>139700492646352</title>\n",
       "<polygon fill=\"none\" points=\"0,-292.5 0,-328.5 123,-328.5 123,-292.5 0,-292.5\" stroke=\"black\"/>\n",
       "<text font-family=\"Times,serif\" font-size=\"14.00\" text-anchor=\"middle\" x=\"61.5\" y=\"-306.8\">conv2d_1: Conv2D</text>\n",
       "</g>\n",
       "<!-- 139700492648400 -->\n",
       "<g class=\"node\" id=\"node2\"><title>139700492648400</title>\n",
       "<polygon fill=\"none\" points=\"0,-219.5 0,-255.5 123,-255.5 123,-219.5 0,-219.5\" stroke=\"black\"/>\n",
       "<text font-family=\"Times,serif\" font-size=\"14.00\" text-anchor=\"middle\" x=\"61.5\" y=\"-233.8\">conv2d_2: Conv2D</text>\n",
       "</g>\n",
       "<!-- 139700492646352&#45;&gt;139700492648400 -->\n",
       "<g class=\"edge\" id=\"edge2\"><title>139700492646352-&gt;139700492648400</title>\n",
       "<path d=\"M61.5,-292.313C61.5,-284.289 61.5,-274.547 61.5,-265.569\" fill=\"none\" stroke=\"black\"/>\n",
       "<polygon fill=\"black\" points=\"65.0001,-265.529 61.5,-255.529 58.0001,-265.529 65.0001,-265.529\" stroke=\"black\"/>\n",
       "</g>\n",
       "<!-- 139700594482704 -->\n",
       "<g class=\"node\" id=\"node3\"><title>139700594482704</title>\n",
       "<polygon fill=\"none\" points=\"6.5,-146.5 6.5,-182.5 116.5,-182.5 116.5,-146.5 6.5,-146.5\" stroke=\"black\"/>\n",
       "<text font-family=\"Times,serif\" font-size=\"14.00\" text-anchor=\"middle\" x=\"61.5\" y=\"-160.8\">flatten_1: Flatten</text>\n",
       "</g>\n",
       "<!-- 139700492648400&#45;&gt;139700594482704 -->\n",
       "<g class=\"edge\" id=\"edge3\"><title>139700492648400-&gt;139700594482704</title>\n",
       "<path d=\"M61.5,-219.313C61.5,-211.289 61.5,-201.547 61.5,-192.569\" fill=\"none\" stroke=\"black\"/>\n",
       "<polygon fill=\"black\" points=\"65.0001,-192.529 61.5,-182.529 58.0001,-192.529 65.0001,-192.529\" stroke=\"black\"/>\n",
       "</g>\n",
       "<!-- 139700492664080 -->\n",
       "<g class=\"node\" id=\"node4\"><title>139700492664080</title>\n",
       "<polygon fill=\"none\" points=\"10.5,-73.5 10.5,-109.5 112.5,-109.5 112.5,-73.5 10.5,-73.5\" stroke=\"black\"/>\n",
       "<text font-family=\"Times,serif\" font-size=\"14.00\" text-anchor=\"middle\" x=\"61.5\" y=\"-87.8\">dense_1: Dense</text>\n",
       "</g>\n",
       "<!-- 139700594482704&#45;&gt;139700492664080 -->\n",
       "<g class=\"edge\" id=\"edge4\"><title>139700594482704-&gt;139700492664080</title>\n",
       "<path d=\"M61.5,-146.313C61.5,-138.289 61.5,-128.547 61.5,-119.569\" fill=\"none\" stroke=\"black\"/>\n",
       "<polygon fill=\"black\" points=\"65.0001,-119.529 61.5,-109.529 58.0001,-119.529 65.0001,-119.529\" stroke=\"black\"/>\n",
       "</g>\n",
       "<!-- 139700595685776 -->\n",
       "<g class=\"node\" id=\"node5\"><title>139700595685776</title>\n",
       "<polygon fill=\"none\" points=\"10.5,-0.5 10.5,-36.5 112.5,-36.5 112.5,-0.5 10.5,-0.5\" stroke=\"black\"/>\n",
       "<text font-family=\"Times,serif\" font-size=\"14.00\" text-anchor=\"middle\" x=\"61.5\" y=\"-14.8\">dense_2: Dense</text>\n",
       "</g>\n",
       "<!-- 139700492664080&#45;&gt;139700595685776 -->\n",
       "<g class=\"edge\" id=\"edge5\"><title>139700492664080-&gt;139700595685776</title>\n",
       "<path d=\"M61.5,-73.3129C61.5,-65.2895 61.5,-55.5475 61.5,-46.5691\" fill=\"none\" stroke=\"black\"/>\n",
       "<polygon fill=\"black\" points=\"65.0001,-46.5288 61.5,-36.5288 58.0001,-46.5289 65.0001,-46.5288\" stroke=\"black\"/>\n",
       "</g>\n",
       "<!-- 139700596194320 -->\n",
       "<g class=\"node\" id=\"node6\"><title>139700596194320</title>\n",
       "<polygon fill=\"none\" points=\"2.5,-365.5 2.5,-401.5 120.5,-401.5 120.5,-365.5 2.5,-365.5\" stroke=\"black\"/>\n",
       "<text font-family=\"Times,serif\" font-size=\"14.00\" text-anchor=\"middle\" x=\"61.5\" y=\"-379.8\">139700596194320</text>\n",
       "</g>\n",
       "<!-- 139700596194320&#45;&gt;139700492646352 -->\n",
       "<g class=\"edge\" id=\"edge1\"><title>139700596194320-&gt;139700492646352</title>\n",
       "<path d=\"M61.5,-365.313C61.5,-357.289 61.5,-347.547 61.5,-338.569\" fill=\"none\" stroke=\"black\"/>\n",
       "<polygon fill=\"black\" points=\"65.0001,-338.529 61.5,-328.529 58.0001,-338.529 65.0001,-338.529\" stroke=\"black\"/>\n",
       "</g>\n",
       "</g>\n",
       "</svg>"
      ],
      "text/plain": [
       "<IPython.core.display.SVG object>"
      ]
     },
     "execution_count": 13,
     "metadata": {},
     "output_type": "execute_result"
    }
   ],
   "source": [
    "from IPython.display import SVG\n",
    "from keras.utils.vis_utils import model_to_dot\n",
    "\n",
    "SVG(model_to_dot(model).create(prog='dot', format='svg'))"
   ]
  },
  {
   "cell_type": "markdown",
   "metadata": {},
   "source": [
    "# Training"
   ]
  },
  {
   "cell_type": "code",
   "execution_count": 14,
   "metadata": {},
   "outputs": [
    {
     "name": "stdout",
     "output_type": "stream",
     "text": [
      "Train on 60000 samples, validate on 10000 samples\n",
      "Epoch 1/5\n",
      "60000/60000 [==============================] - 9s 146us/step - loss: 0.5983 - acc: 0.8413 - val_loss: 0.2329 - val_acc: 0.9330\n",
      "Epoch 2/5\n",
      "60000/60000 [==============================] - 6s 101us/step - loss: 0.2084 - acc: 0.9392 - val_loss: 0.1543 - val_acc: 0.9568\n",
      "Epoch 3/5\n",
      "60000/60000 [==============================] - 6s 98us/step - loss: 0.1511 - acc: 0.9559 - val_loss: 0.1217 - val_acc: 0.9644\n",
      "Epoch 4/5\n",
      "60000/60000 [==============================] - 6s 103us/step - loss: 0.1189 - acc: 0.9646 - val_loss: 0.0990 - val_acc: 0.9710\n",
      "Epoch 5/5\n",
      "60000/60000 [==============================] - 6s 107us/step - loss: 0.1001 - acc: 0.9699 - val_loss: 0.0882 - val_acc: 0.9733\n"
     ]
    }
   ],
   "source": [
    "history = model.fit(\n",
    "    x_train, y_train,    # training data to learn from \n",
    "    batch_size=batch_size, # size of batches\n",
    "    epochs=epochs, # how many iterations we train for \n",
    "    verbose=1, # type of logging\n",
    "    validation_data=(x_test, y_test)) # validation data to test on"
   ]
  },
  {
   "cell_type": "markdown",
   "metadata": {
    "slideshow": {
     "slide_type": "slide"
    }
   },
   "source": [
    "# Plotting Results"
   ]
  },
  {
   "cell_type": "code",
   "execution_count": 18,
   "metadata": {},
   "outputs": [
    {
     "data": {
      "image/png": "[encoded data removed]",
      "text/plain": [
       "<matplotlib.figure.Figure at 0x7f0e87f34bd0>"
      ]
     },
     "metadata": {},
     "output_type": "display_data"
    }
   ],
   "source": [
    "import seaborn as sns; sns.set()\n",
    "history.history['epochs'] = range(epochs)\n",
    "\n",
    "sns.lineplot(x='epochs', y='acc', data=history.history, label='Accuracy')\n",
    "sns.lineplot(x='epochs', y='val_acc', data=history.history, label='Val Accuracy')\n",
    "\n",
    "plt.xlabel('Epochs'); plt.ylabel('Accuracy')\n",
    "plt.legend(); plt.show()"
   ]
  }
 ],
 "metadata": {
  "celltoolbar": "Slideshow",
  "kernelspec": {
   "display_name": "Python 2",
   "language": "python",
   "name": "python2"
  },
  "language_info": {
   "codemirror_mode": {
    "name": "ipython",
    "version": 2
   },
   "file_extension": ".py",
   "mimetype": "text/x-python",
   "name": "python",
   "nbconvert_exporter": "python",
   "pygments_lexer": "ipython2",
   "version": "2.7.12"
  }
 },
 "nbformat": 4,
 "nbformat_minor": 2
}
