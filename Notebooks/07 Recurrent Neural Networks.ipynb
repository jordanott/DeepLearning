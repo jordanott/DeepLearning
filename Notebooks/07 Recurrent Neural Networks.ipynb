{
 "cells": [
  {
   "cell_type": "code",
   "execution_count": 1,
   "metadata": {
    "slideshow": {
     "slide_type": "skip"
    }
   },
   "outputs": [
    {
     "name": "stderr",
     "output_type": "stream",
     "text": [
      "/usr/local/lib/python2.7/dist-packages/h5py/__init__.py:34: FutureWarning: Conversion of the second argument of issubdtype from `float` to `np.floating` is deprecated. In future, it will be treated as `np.float64 == np.dtype(float).type`.\n",
      "  from ._conv import register_converters as _register_converters\n",
      "Using TensorFlow backend.\n"
     ]
    },
    {
     "name": "stdout",
     "output_type": "stream",
     "text": [
      "tf.estimator package not installed.\n",
      "tf.estimator package not installed.\n"
     ]
    }
   ],
   "source": [
    "import math\n",
    "import numpy as np\n",
    "import matplotlib.pyplot as plt\n",
    "\n",
    "from pandas import read_csv\n",
    "from keras.models import Sequential\n",
    "from keras.layers import Dense\n",
    "from keras.layers import LSTM\n",
    "from sklearn.preprocessing import MinMaxScaler\n",
    "from sklearn.metrics import mean_squared_error"
   ]
  },
  {
   "cell_type": "markdown",
   "metadata": {
    "slideshow": {
     "slide_type": "slide"
    }
   },
   "source": [
    "# Recurrent Neural Networks\n",
    "<center><img src=\"https://github.com/jordanott/DeepLearning/blob/master/Figures/sparkling_lr.png?raw=true\" width=800>"
   ]
  },
  {
   "cell_type": "markdown",
   "metadata": {
    "slideshow": {
     "slide_type": "slide"
    }
   },
   "source": [
    "# Machine Translation\n",
    "<center><img src='https://smerity.com/media/images/articles/2016/gnmt_arch_1_enc_dec.svg'>"
   ]
  },
  {
   "cell_type": "markdown",
   "metadata": {
    "slideshow": {
     "slide_type": "slide"
    }
   },
   "source": [
    "# Speech Recognition\n",
    "![](https://cdn-images-1.medium.com/max/1600/1*nJNxFmJaHxyJTtVFkhGTlg.png)"
   ]
  },
  {
   "cell_type": "markdown",
   "metadata": {
    "slideshow": {
     "slide_type": "slide"
    }
   },
   "source": [
    "# Image Captioning\n",
    "![](http://kelvinxu.github.io/projects/diags/model_diag.png)"
   ]
  },
  {
   "cell_type": "markdown",
   "metadata": {
    "slideshow": {
     "slide_type": "slide"
    }
   },
   "source": [
    "# Nonsequential Problems\n",
    "* Don't depend on historic information\n",
    "    * Image classification"
   ]
  },
  {
   "cell_type": "markdown",
   "metadata": {
    "slideshow": {
     "slide_type": "fragment"
    }
   },
   "source": [
    "# Sequential Problems\n",
    "* Information of the current time depends on what happend before\n",
    "    * Speech\n",
    "    * Video\n",
    "    * Audio"
   ]
  },
  {
   "cell_type": "markdown",
   "metadata": {
    "slideshow": {
     "slide_type": "slide"
    }
   },
   "source": [
    "# Recurrent Neural Network\n",
    "![](https://cdn-images-1.medium.com/max/1600/0*YNLOjW7YVJarwMD4.png)"
   ]
  },
  {
   "cell_type": "markdown",
   "metadata": {
    "slideshow": {
     "slide_type": "slide"
    }
   },
   "source": [
    "# Weight Sharing\n",
    "* CNNs\n",
    "    * Share weights across space"
   ]
  },
  {
   "cell_type": "markdown",
   "metadata": {
    "slideshow": {
     "slide_type": "fragment"
    }
   },
   "source": [
    "* RNNs \n",
    "    * Share weights across time"
   ]
  },
  {
   "cell_type": "markdown",
   "metadata": {
    "slideshow": {
     "slide_type": "slide"
    }
   },
   "source": [
    "# Weight Sharing Across Time\n",
    "<img src=\"https://blobscdn.gitbook.com/v0/b/gitbook-28427.appspot.com/o/assets%2F-LIA3amopGH9NC6Rf0mA%2F-LIA3mTJltflw3MVKAEQ%2F-LIA3nSQqdelVePBPCzA%2Fcomputational-graph-2.png?generation=1532415401876532&alt=media\">\n"
   ]
  },
  {
   "cell_type": "markdown",
   "metadata": {
    "slideshow": {
     "slide_type": "notes"
    }
   },
   "source": [
    "The same set of weights is used for every time step of the computation."
   ]
  },
  {
   "cell_type": "markdown",
   "metadata": {
    "slideshow": {
     "slide_type": "slide"
    }
   },
   "source": [
    "# Types of Sequence Tasks\n",
    "![](http://karpathy.github.io/assets/rnn/diags.jpeg)"
   ]
  },
  {
   "cell_type": "markdown",
   "metadata": {
    "slideshow": {
     "slide_type": "notes"
    }
   },
   "source": [
    "**One to One:** Object classification with images  \n",
    "\n",
    "**Many to one:** Text sentiment analysis\n",
    "\n",
    "**Many to Many:** Translation"
   ]
  },
  {
   "cell_type": "markdown",
   "metadata": {
    "slideshow": {
     "slide_type": "slide"
    }
   },
   "source": [
    "<center><img src=\"https://blobscdn.gitbook.com/v0/b/gitbook-28427.appspot.com/o/assets%2F-LIA3amopGH9NC6Rf0mA%2F-LIA3mTJltflw3MVKAEQ%2F-LIA3nSSYfP_vAic6Mvf%2Fcomputational-graph-many-to-many.png?generation=1532415395769369&alt=media\">"
   ]
  },
  {
   "cell_type": "markdown",
   "metadata": {
    "slideshow": {
     "slide_type": "notes"
    }
   },
   "source": [
    "With a **many to many** paradigm the losses are calculated at each timestep/output. Then the loss is backpropagated through the graph to perform gradient descent. With very long time sequences this can lead to vanishing gradients and can become a computational issue. To avoid this **truncated backpropagation through time** (bptt) is sometimes used."
   ]
  },
  {
   "cell_type": "markdown",
   "metadata": {
    "slideshow": {
     "slide_type": "slide"
    }
   },
   "source": [
    "<center><img src=\"https://blobscdn.gitbook.com/v0/b/gitbook-28427.appspot.com/o/assets%2F-LIA3amopGH9NC6Rf0mA%2F-LIA3mTJltflw3MVKAEQ%2F-LIA3nSphST_wyjxzKiy%2Ftruncated-backprop.png?generation=1532415397197000&alt=media\">"
   ]
  },
  {
   "cell_type": "code",
   "execution_count": 2,
   "metadata": {
    "slideshow": {
     "slide_type": "skip"
    }
   },
   "outputs": [
    {
     "data": {
      "image/png": "[encoded data removed]",
      "text/plain": [
       "<Figure size 432x288 with 1 Axes>"
      ]
     },
     "metadata": {
      "needs_background": "light"
     },
     "output_type": "display_data"
    }
   ],
   "source": [
    "x = np.linspace(0,10,1000); y = np.sin(x) + x/2. + np.random.normal(0,0.05,size=1000)\n",
    "\n",
    "plt.plot(x,y); plt.show()"
   ]
  },
  {
   "cell_type": "markdown",
   "metadata": {
    "slideshow": {
     "slide_type": "slide"
    }
   },
   "source": [
    "# Bad\n",
    "$y_t = X_{t}\\theta + y_{t-1}$"
   ]
  },
  {
   "cell_type": "code",
   "execution_count": 3,
   "metadata": {
    "scrolled": true
   },
   "outputs": [
    {
     "data": {
      "image/png": "[encoded data removed]",
      "text/plain": [
       "<Figure size 432x288 with 1 Axes>"
      ]
     },
     "metadata": {
      "needs_background": "light"
     },
     "output_type": "display_data"
    }
   ],
   "source": [
    "theta = np.random.randn()\n",
    "val = [0]\n",
    "for i in x:\n",
    "    val.append(i * theta + val[-1])\n",
    "    \n",
    "plt.plot(val); plt.show()"
   ]
  },
  {
   "cell_type": "markdown",
   "metadata": {
    "slideshow": {
     "slide_type": "slide"
    }
   },
   "source": [
    "# Problems with Standard RNNs\n",
    "* Vanishing/Exploding Gradients\n"
   ]
  },
  {
   "cell_type": "markdown",
   "metadata": {
    "slideshow": {
     "slide_type": "slide"
    }
   },
   "source": [
    "<center><img src=\"https://scontent-sjc3-1.xx.fbcdn.net/v/t1.0-9/64293031_2463195480360338_7966350304633421824_n.jpg?_nc_cat=101&_nc_oc=AQmzJ_fm1xercvZiqNoZOl733JVkharS7pNwRZMzD8C_TiCMJdvuIbjKK5kFouJFLl2wZ2_igGjIZEYu9Vdp9D4z&_nc_ht=scontent-sjc3-1.xx&oh=9c59b1c112a09d594bc056bc021abe7b&oe=5DA6B635\" width=600>"
   ]
  },
  {
   "cell_type": "markdown",
   "metadata": {
    "slideshow": {
     "slide_type": "slide"
    }
   },
   "source": [
    "# Long Short Term Memory (LSTM)\n",
    "<center><img src=\"http://colah.github.io/posts/2015-08-Understanding-LSTMs/img/LSTM3-chain.png\" width=1000>"
   ]
  },
  {
   "cell_type": "markdown",
   "metadata": {
    "slideshow": {
     "slide_type": "fragment"
    }
   },
   "source": [
    "<center><img src=\"http://colah.github.io/posts/2015-08-Understanding-LSTMs/img/LSTM2-notation.png\" width=\"650\">"
   ]
  },
  {
   "cell_type": "markdown",
   "metadata": {
    "slideshow": {
     "slide_type": "slide"
    }
   },
   "source": [
    "# Cell State\n",
    "![](http://colah.github.io/posts/2015-08-Understanding-LSTMs/img/LSTM3-C-line.png)"
   ]
  },
  {
   "cell_type": "markdown",
   "metadata": {
    "slideshow": {
     "slide_type": "slide"
    }
   },
   "source": [
    "# Forget Gate\n",
    "\n",
    "![](http://colah.github.io/posts/2015-08-Understanding-LSTMs/img/LSTM3-focus-f.png)"
   ]
  },
  {
   "cell_type": "markdown",
   "metadata": {
    "slideshow": {
     "slide_type": "slide"
    }
   },
   "source": [
    "# Forget Gate"
   ]
  },
  {
   "cell_type": "markdown",
   "metadata": {},
   "source": [
    "<center><img src=\"https://thumbs.gfycat.com/SecondhandGiantJanenschia-poster.jpg\" width=800>"
   ]
  },
  {
   "cell_type": "markdown",
   "metadata": {
    "slideshow": {
     "slide_type": "slide"
    }
   },
   "source": [
    "# Input Gate\n",
    "![](http://colah.github.io/posts/2015-08-Understanding-LSTMs/img/LSTM3-focus-i.png)"
   ]
  },
  {
   "cell_type": "markdown",
   "metadata": {
    "slideshow": {
     "slide_type": "slide"
    }
   },
   "source": [
    "# Cell State Update\n",
    "![](http://colah.github.io/posts/2015-08-Understanding-LSTMs/img/LSTM3-focus-C.png)"
   ]
  },
  {
   "cell_type": "markdown",
   "metadata": {
    "slideshow": {
     "slide_type": "slide"
    }
   },
   "source": [
    "# Output Gate\n",
    "![](http://colah.github.io/posts/2015-08-Understanding-LSTMs/img/LSTM3-focus-o.png)"
   ]
  },
  {
   "cell_type": "markdown",
   "metadata": {
    "slideshow": {
     "slide_type": "slide"
    }
   },
   "source": [
    "# Gated Recurrent Unit (GRU)\n",
    "![](http://colah.github.io/posts/2015-08-Understanding-LSTMs/img/LSTM3-var-GRU.png)"
   ]
  },
  {
   "cell_type": "markdown",
   "metadata": {
    "slideshow": {
     "slide_type": "slide"
    }
   },
   "source": [
    "# LSTMs in Keras\n",
    "\n",
    "* **units:** Dimension of the output\n",
    "* **input_shape:** (sequence length, dimension of the input features)\n",
    "* **return_sequences:** Make predictions at every timestep or only the last one"
   ]
  },
  {
   "cell_type": "code",
   "execution_count": 2,
   "metadata": {
    "slideshow": {
     "slide_type": "fragment"
    }
   },
   "outputs": [],
   "source": [
    "units = 10\n",
    "sequence_length = None # variable sequence len\n",
    "input_feature_dim = 5 \n",
    "return_sequences = True"
   ]
  },
  {
   "cell_type": "code",
   "execution_count": 3,
   "metadata": {
    "slideshow": {
     "slide_type": "fragment"
    }
   },
   "outputs": [],
   "source": [
    "model = Sequential()"
   ]
  },
  {
   "cell_type": "code",
   "execution_count": 4,
   "metadata": {
    "slideshow": {
     "slide_type": "fragment"
    }
   },
   "outputs": [],
   "source": [
    "model.add(LSTM(units, input_shape=(sequence_length, input_feature_dim), return_sequences=return_sequences))"
   ]
  },
  {
   "cell_type": "code",
   "execution_count": 5,
   "metadata": {
    "slideshow": {
     "slide_type": "fragment"
    }
   },
   "outputs": [],
   "source": [
    "model.add(Dense(13))"
   ]
  },
  {
   "cell_type": "code",
   "execution_count": 6,
   "metadata": {
    "slideshow": {
     "slide_type": "fragment"
    }
   },
   "outputs": [],
   "source": [
    "model.compile(loss='mean_squared_error', optimizer='adam')"
   ]
  },
  {
   "cell_type": "code",
   "execution_count": 7,
   "metadata": {
    "slideshow": {
     "slide_type": "slide"
    }
   },
   "outputs": [
    {
     "name": "stdout",
     "output_type": "stream",
     "text": [
      "_________________________________________________________________\n",
      "Layer (type)                 Output Shape              Param #   \n",
      "=================================================================\n",
      "lstm_1 (LSTM)                (None, None, 10)          640       \n",
      "_________________________________________________________________\n",
      "dense_1 (Dense)              (None, None, 13)          143       \n",
      "=================================================================\n",
      "Total params: 783\n",
      "Trainable params: 783\n",
      "Non-trainable params: 0\n",
      "_________________________________________________________________\n"
     ]
    }
   ],
   "source": [
    "model.summary()"
   ]
  },
  {
   "cell_type": "markdown",
   "metadata": {
    "slideshow": {
     "slide_type": "slide"
    }
   },
   "source": [
    "# Return a Sequence\n",
    "* For every element in the sequence return a prediction\n",
    "* What should the shape of our prediction be?"
   ]
  },
  {
   "cell_type": "code",
   "execution_count": 9,
   "metadata": {},
   "outputs": [],
   "source": [
    "batch_size = 1\n",
    "sequence_length = 100\n",
    "\n",
    "fake_data = np.random.randn(batch_size, sequence_length, input_feature_dim)"
   ]
  },
  {
   "cell_type": "code",
   "execution_count": 10,
   "metadata": {
    "slideshow": {
     "slide_type": "fragment"
    }
   },
   "outputs": [
    {
     "data": {
      "text/plain": [
       "(1, 100, 13)"
      ]
     },
     "execution_count": 10,
     "metadata": {},
     "output_type": "execute_result"
    }
   ],
   "source": [
    "model.predict(fake_data).shape"
   ]
  },
  {
   "cell_type": "markdown",
   "metadata": {
    "slideshow": {
     "slide_type": "slide"
    }
   },
   "source": [
    "# Don't Return a Sequence\n",
    "* Only return the last element of the predicted sequence"
   ]
  },
  {
   "cell_type": "code",
   "execution_count": 11,
   "metadata": {
    "slideshow": {
     "slide_type": "-"
    }
   },
   "outputs": [
    {
     "name": "stdout",
     "output_type": "stream",
     "text": [
      "_________________________________________________________________\n",
      "Layer (type)                 Output Shape              Param #   \n",
      "=================================================================\n",
      "lstm_2 (LSTM)                (None, 10)                640       \n",
      "_________________________________________________________________\n",
      "dense_2 (Dense)              (None, 13)                143       \n",
      "=================================================================\n",
      "Total params: 783\n",
      "Trainable params: 783\n",
      "Non-trainable params: 0\n",
      "_________________________________________________________________\n"
     ]
    }
   ],
   "source": [
    "model = Sequential()\n",
    "model.add(LSTM(units, input_shape=(sequence_length, input_feature_dim), return_sequences=False))\n",
    "model.add(Dense(13))\n",
    "\n",
    "model.compile(loss='mean_squared_error', optimizer='adam')\n",
    "model.summary()"
   ]
  },
  {
   "cell_type": "code",
   "execution_count": 14,
   "metadata": {
    "slideshow": {
     "slide_type": "fragment"
    }
   },
   "outputs": [
    {
     "data": {
      "text/plain": [
       "(1, 100, 5)"
      ]
     },
     "execution_count": 14,
     "metadata": {},
     "output_type": "execute_result"
    }
   ],
   "source": [
    "batch_size = 1; sequence_length = 100\n",
    "fake_data = np.random.randn(batch_size, sequence_length, input_feature_dim)\n",
    "fake_data.shape"
   ]
  },
  {
   "cell_type": "code",
   "execution_count": 13,
   "metadata": {
    "slideshow": {
     "slide_type": "fragment"
    }
   },
   "outputs": [
    {
     "data": {
      "text/plain": [
       "(1, 13)"
      ]
     },
     "execution_count": 13,
     "metadata": {},
     "output_type": "execute_result"
    }
   ],
   "source": [
    "model.predict(fake_data).shape"
   ]
  },
  {
   "cell_type": "code",
   "execution_count": 15,
   "metadata": {
    "slideshow": {
     "slide_type": "slide"
    }
   },
   "outputs": [],
   "source": [
    "# convert an array of values into a dataset matrix\n",
    "def create_dataset(dataset, look_back=1):\n",
    "    dataX, dataY = [], []\n",
    "    for i in range(len(dataset)-look_back-1):\n",
    "        a = dataset[i:(i+look_back), 0]\n",
    "        dataX.append(a)\n",
    "        dataY.append(dataset[i + look_back, 0])\n",
    "    return np.array(dataX), np.array(dataY)\n",
    "\n",
    "# fix random seed for reproducibility\n",
    "np.random.seed(7)\n",
    "# load the dataset\n",
    "dataframe = read_csv('https://raw.githubusercontent.com/jbrownlee/Datasets/master/airline-passengers.csv', usecols=[1], engine='python')\n",
    "dataset = dataframe.values; dataset = dataset.astype('float32')\n",
    "\n",
    "# normalize the dataset\n",
    "scaler = MinMaxScaler(feature_range=(0, 1))\n",
    "dataset = scaler.fit_transform(dataset)\n",
    "\n",
    "# split into train and test sets\n",
    "train_size = int(len(dataset) * 0.67)\n",
    "test_size = len(dataset) - train_size\n",
    "train, test = dataset[0:train_size,:], dataset[train_size:len(dataset),:]\n",
    "\n",
    "# reshape into X=t and Y=t+1\n",
    "look_back = 1"
   ]
  },
  {
   "cell_type": "markdown",
   "metadata": {
    "slideshow": {
     "slide_type": "slide"
    }
   },
   "source": [
    "# Load Dataset"
   ]
  },
  {
   "cell_type": "code",
   "execution_count": 35,
   "metadata": {},
   "outputs": [],
   "source": [
    "trainX, trainY = create_dataset(train, look_back)\n",
    "testX, testY = create_dataset(test, look_back)"
   ]
  },
  {
   "cell_type": "markdown",
   "metadata": {
    "slideshow": {
     "slide_type": "slide"
    }
   },
   "source": [
    "# Reshaping\n",
    "* Data needs to be of shape (batch, sequence, input feature)"
   ]
  },
  {
   "cell_type": "code",
   "execution_count": 36,
   "metadata": {},
   "outputs": [
    {
     "data": {
      "text/plain": [
       "((94, 1), (94,), (46, 1), (46,))"
      ]
     },
     "execution_count": 36,
     "metadata": {},
     "output_type": "execute_result"
    }
   ],
   "source": [
    "trainX.shape, trainY.shape, testX.shape, testY.shape"
   ]
  },
  {
   "cell_type": "code",
   "execution_count": 37,
   "metadata": {},
   "outputs": [],
   "source": [
    "# reshape\n",
    "trainX = trainX.reshape(1,94,1)\n",
    "trainY = trainY.reshape(1,94,1)\n",
    "testX = testX.reshape(1,46,1)\n",
    "testY = testY.reshape(1,46,1)"
   ]
  },
  {
   "cell_type": "code",
   "execution_count": 38,
   "metadata": {},
   "outputs": [
    {
     "data": {
      "text/plain": [
       "((1, 94, 1), (1, 94, 1), (1, 46, 1), (1, 46, 1))"
      ]
     },
     "execution_count": 38,
     "metadata": {},
     "output_type": "execute_result"
    }
   ],
   "source": [
    "trainX.shape, trainY.shape, testX.shape, testY.shape\n"
   ]
  },
  {
   "cell_type": "markdown",
   "metadata": {
    "slideshow": {
     "slide_type": "slide"
    }
   },
   "source": [
    "# Build the Model\n",
    "* "
   ]
  },
  {
   "cell_type": "code",
   "execution_count": 27,
   "metadata": {},
   "outputs": [
    {
     "name": "stdout",
     "output_type": "stream",
     "text": [
      "_________________________________________________________________\n",
      "Layer (type)                 Output Shape              Param #   \n",
      "=================================================================\n",
      "lstm_3 (LSTM)                (None, None, 10)          480       \n",
      "_________________________________________________________________\n",
      "dense_3 (Dense)              (None, None, 1)           11        \n",
      "=================================================================\n",
      "Total params: 491\n",
      "Trainable params: 491\n",
      "Non-trainable params: 0\n",
      "_________________________________________________________________\n"
     ]
    }
   ],
   "source": [
    "model = Sequential()\n",
    "model.add(LSTM(units, input_shape=(None, 1), return_sequences=True))\n",
    "model.add(Dense(1))\n",
    "\n",
    "model.compile(loss='mean_squared_error', optimizer='adam')\n",
    "model.summary()"
   ]
  },
  {
   "cell_type": "markdown",
   "metadata": {
    "slideshow": {
     "slide_type": "slide"
    }
   },
   "source": [
    "# Training\n",
    "* Train your model for 100 epochs\n"
   ]
  },
  {
   "cell_type": "code",
   "execution_count": 46,
   "metadata": {},
   "outputs": [
    {
     "name": "stdout",
     "output_type": "stream",
     "text": [
      "Train on 1 samples, validate on 1 samples\n",
      "Epoch 1/500\n",
      " - 0s - loss: 0.0038 - val_loss: 0.0517\n",
      "Epoch 2/500\n",
      " - 0s - loss: 0.0037 - val_loss: 0.0518\n",
      "Epoch 3/500\n",
      " - 0s - loss: 0.0037 - val_loss: 0.0520\n",
      "Epoch 4/500\n",
      " - 0s - loss: 0.0036 - val_loss: 0.0522\n",
      "Epoch 5/500\n",
      " - 0s - loss: 0.0036 - val_loss: 0.0525\n",
      "Epoch 6/500\n",
      " - 0s - loss: 0.0036 - val_loss: 0.0528\n",
      "Epoch 7/500\n",
      " - 0s - loss: 0.0035 - val_loss: 0.0532\n",
      "Epoch 8/500\n",
      " - 0s - loss: 0.0035 - val_loss: 0.0535\n",
      "Epoch 9/500\n",
      " - 0s - loss: 0.0035 - val_loss: 0.0538\n",
      "Epoch 10/500\n",
      " - 0s - loss: 0.0035 - val_loss: 0.0541\n",
      "Epoch 11/500\n",
      " - 0s - loss: 0.0035 - val_loss: 0.0544\n",
      "Epoch 12/500\n",
      " - 0s - loss: 0.0035 - val_loss: 0.0546\n",
      "Epoch 13/500\n",
      " - 0s - loss: 0.0035 - val_loss: 0.0548\n",
      "Epoch 14/500\n",
      " - 0s - loss: 0.0035 - val_loss: 0.0549\n",
      "Epoch 15/500\n",
      " - 0s - loss: 0.0035 - val_loss: 0.0550\n",
      "Epoch 16/500\n",
      " - 0s - loss: 0.0035 - val_loss: 0.0551\n",
      "Epoch 17/500\n",
      " - 0s - loss: 0.0035 - val_loss: 0.0551\n",
      "Epoch 18/500\n",
      " - 0s - loss: 0.0035 - val_loss: 0.0551\n",
      "Epoch 19/500\n",
      " - 0s - loss: 0.0035 - val_loss: 0.0551\n",
      "Epoch 20/500\n",
      " - 0s - loss: 0.0035 - val_loss: 0.0551\n",
      "Epoch 21/500\n",
      " - 0s - loss: 0.0035 - val_loss: 0.0551\n",
      "Epoch 22/500\n",
      " - 0s - loss: 0.0035 - val_loss: 0.0550\n",
      "Epoch 23/500\n",
      " - 0s - loss: 0.0035 - val_loss: 0.0550\n",
      "Epoch 24/500\n",
      " - 0s - loss: 0.0035 - val_loss: 0.0549\n",
      "Epoch 25/500\n",
      " - 0s - loss: 0.0035 - val_loss: 0.0549\n",
      "Epoch 26/500\n",
      " - 0s - loss: 0.0035 - val_loss: 0.0549\n",
      "Epoch 27/500\n",
      " - 0s - loss: 0.0034 - val_loss: 0.0549\n",
      "Epoch 28/500\n",
      " - 0s - loss: 0.0034 - val_loss: 0.0550\n",
      "Epoch 29/500\n",
      " - 0s - loss: 0.0034 - val_loss: 0.0550\n",
      "Epoch 30/500\n",
      " - 0s - loss: 0.0034 - val_loss: 0.0550\n",
      "Epoch 31/500\n",
      " - 0s - loss: 0.0034 - val_loss: 0.0551\n",
      "Epoch 32/500\n",
      " - 0s - loss: 0.0034 - val_loss: 0.0551\n",
      "Epoch 33/500\n",
      " - 0s - loss: 0.0034 - val_loss: 0.0552\n",
      "Epoch 34/500\n",
      " - 0s - loss: 0.0034 - val_loss: 0.0553\n",
      "Epoch 35/500\n",
      " - 0s - loss: 0.0034 - val_loss: 0.0554\n",
      "Epoch 36/500\n",
      " - 0s - loss: 0.0034 - val_loss: 0.0556\n",
      "Epoch 37/500\n",
      " - 0s - loss: 0.0034 - val_loss: 0.0557\n",
      "Epoch 38/500\n",
      " - 0s - loss: 0.0034 - val_loss: 0.0559\n",
      "Epoch 39/500\n",
      " - 0s - loss: 0.0034 - val_loss: 0.0560\n",
      "Epoch 40/500\n",
      " - 0s - loss: 0.0034 - val_loss: 0.0561\n",
      "Epoch 41/500\n",
      " - 0s - loss: 0.0034 - val_loss: 0.0563\n",
      "Epoch 42/500\n",
      " - 0s - loss: 0.0034 - val_loss: 0.0564\n",
      "Epoch 43/500\n",
      " - 0s - loss: 0.0034 - val_loss: 0.0566\n",
      "Epoch 44/500\n",
      " - 0s - loss: 0.0034 - val_loss: 0.0567\n",
      "Epoch 45/500\n",
      " - 0s - loss: 0.0034 - val_loss: 0.0569\n",
      "Epoch 46/500\n",
      " - 0s - loss: 0.0034 - val_loss: 0.0571\n",
      "Epoch 47/500\n",
      " - 0s - loss: 0.0033 - val_loss: 0.0573\n",
      "Epoch 48/500\n",
      " - 0s - loss: 0.0033 - val_loss: 0.0574\n",
      "Epoch 49/500\n",
      " - 0s - loss: 0.0033 - val_loss: 0.0576\n",
      "Epoch 50/500\n",
      " - 0s - loss: 0.0033 - val_loss: 0.0577\n",
      "Epoch 51/500\n",
      " - 0s - loss: 0.0033 - val_loss: 0.0579\n",
      "Epoch 52/500\n",
      " - 0s - loss: 0.0033 - val_loss: 0.0580\n",
      "Epoch 53/500\n",
      " - 0s - loss: 0.0033 - val_loss: 0.0582\n",
      "Epoch 54/500\n",
      " - 0s - loss: 0.0033 - val_loss: 0.0584\n",
      "Epoch 55/500\n",
      " - 0s - loss: 0.0033 - val_loss: 0.0586\n",
      "Epoch 56/500\n",
      " - 0s - loss: 0.0033 - val_loss: 0.0588\n",
      "Epoch 57/500\n",
      " - 0s - loss: 0.0033 - val_loss: 0.0589\n",
      "Epoch 58/500\n",
      " - 0s - loss: 0.0033 - val_loss: 0.0591\n",
      "Epoch 59/500\n",
      " - 0s - loss: 0.0033 - val_loss: 0.0593\n",
      "Epoch 60/500\n",
      " - 0s - loss: 0.0033 - val_loss: 0.0594\n",
      "Epoch 61/500\n",
      " - 0s - loss: 0.0033 - val_loss: 0.0596\n",
      "Epoch 62/500\n",
      " - 0s - loss: 0.0033 - val_loss: 0.0598\n",
      "Epoch 63/500\n",
      " - 0s - loss: 0.0033 - val_loss: 0.0600\n",
      "Epoch 64/500\n",
      " - 0s - loss: 0.0033 - val_loss: 0.0602\n",
      "Epoch 65/500\n",
      " - 0s - loss: 0.0033 - val_loss: 0.0604\n",
      "Epoch 66/500\n",
      " - 0s - loss: 0.0033 - val_loss: 0.0605\n",
      "Epoch 67/500\n",
      " - 0s - loss: 0.0033 - val_loss: 0.0607\n",
      "Epoch 68/500\n",
      " - 0s - loss: 0.0033 - val_loss: 0.0609\n",
      "Epoch 69/500\n",
      " - 0s - loss: 0.0033 - val_loss: 0.0611\n",
      "Epoch 70/500\n",
      " - 0s - loss: 0.0033 - val_loss: 0.0613\n",
      "Epoch 71/500\n",
      " - 0s - loss: 0.0033 - val_loss: 0.0615\n",
      "Epoch 72/500\n",
      " - 0s - loss: 0.0033 - val_loss: 0.0617\n",
      "Epoch 73/500\n",
      " - 0s - loss: 0.0033 - val_loss: 0.0619\n",
      "Epoch 74/500\n",
      " - 0s - loss: 0.0033 - val_loss: 0.0621\n",
      "Epoch 75/500\n",
      " - 0s - loss: 0.0033 - val_loss: 0.0623\n",
      "Epoch 76/500\n",
      " - 0s - loss: 0.0033 - val_loss: 0.0625\n",
      "Epoch 77/500\n",
      " - 0s - loss: 0.0033 - val_loss: 0.0627\n",
      "Epoch 78/500\n",
      " - 0s - loss: 0.0033 - val_loss: 0.0629\n",
      "Epoch 79/500\n",
      " - 0s - loss: 0.0033 - val_loss: 0.0631\n",
      "Epoch 80/500\n",
      " - 0s - loss: 0.0033 - val_loss: 0.0633\n",
      "Epoch 81/500\n",
      " - 0s - loss: 0.0033 - val_loss: 0.0635\n",
      "Epoch 82/500\n",
      " - 0s - loss: 0.0033 - val_loss: 0.0637\n",
      "Epoch 83/500\n",
      " - 0s - loss: 0.0033 - val_loss: 0.0639\n",
      "Epoch 84/500\n",
      " - 0s - loss: 0.0032 - val_loss: 0.0641\n",
      "Epoch 85/500\n",
      " - 0s - loss: 0.0032 - val_loss: 0.0643\n",
      "Epoch 86/500\n",
      " - 0s - loss: 0.0032 - val_loss: 0.0645\n",
      "Epoch 87/500\n",
      " - 0s - loss: 0.0032 - val_loss: 0.0647\n",
      "Epoch 88/500\n",
      " - 0s - loss: 0.0032 - val_loss: 0.0649\n",
      "Epoch 89/500\n",
      " - 0s - loss: 0.0032 - val_loss: 0.0651\n",
      "Epoch 90/500\n",
      " - 0s - loss: 0.0032 - val_loss: 0.0653\n",
      "Epoch 91/500\n",
      " - 0s - loss: 0.0032 - val_loss: 0.0655\n",
      "Epoch 92/500\n",
      " - 0s - loss: 0.0032 - val_loss: 0.0656\n",
      "Epoch 93/500\n",
      " - 0s - loss: 0.0032 - val_loss: 0.0658\n",
      "Epoch 94/500\n",
      " - 0s - loss: 0.0032 - val_loss: 0.0660\n",
      "Epoch 95/500\n",
      " - 0s - loss: 0.0032 - val_loss: 0.0662\n",
      "Epoch 96/500\n",
      " - 0s - loss: 0.0032 - val_loss: 0.0664\n",
      "Epoch 97/500\n",
      " - 0s - loss: 0.0032 - val_loss: 0.0666\n",
      "Epoch 98/500\n",
      " - 0s - loss: 0.0032 - val_loss: 0.0668\n",
      "Epoch 99/500\n",
      " - 0s - loss: 0.0032 - val_loss: 0.0669\n",
      "Epoch 100/500\n",
      " - 0s - loss: 0.0032 - val_loss: 0.0671\n",
      "Epoch 101/500\n",
      " - 0s - loss: 0.0032 - val_loss: 0.0673\n",
      "Epoch 102/500\n",
      " - 0s - loss: 0.0032 - val_loss: 0.0674\n",
      "Epoch 103/500\n",
      " - 0s - loss: 0.0032 - val_loss: 0.0676\n",
      "Epoch 104/500\n",
      " - 0s - loss: 0.0032 - val_loss: 0.0678\n",
      "Epoch 105/500\n",
      " - 0s - loss: 0.0032 - val_loss: 0.0680\n",
      "Epoch 106/500\n",
      " - 0s - loss: 0.0032 - val_loss: 0.0681\n",
      "Epoch 107/500\n",
      " - 0s - loss: 0.0032 - val_loss: 0.0683\n",
      "Epoch 108/500\n",
      " - 0s - loss: 0.0032 - val_loss: 0.0684\n",
      "Epoch 109/500\n",
      " - 0s - loss: 0.0032 - val_loss: 0.0686\n",
      "Epoch 110/500\n",
      " - 0s - loss: 0.0032 - val_loss: 0.0687\n",
      "Epoch 111/500\n",
      " - 0s - loss: 0.0032 - val_loss: 0.0689\n",
      "Epoch 112/500\n",
      " - 0s - loss: 0.0032 - val_loss: 0.0691\n",
      "Epoch 113/500\n",
      " - 0s - loss: 0.0032 - val_loss: 0.0692\n",
      "Epoch 114/500\n",
      " - 0s - loss: 0.0032 - val_loss: 0.0694\n",
      "Epoch 115/500\n",
      " - 0s - loss: 0.0032 - val_loss: 0.0695\n",
      "Epoch 116/500\n",
      " - 0s - loss: 0.0032 - val_loss: 0.0696\n",
      "Epoch 117/500\n",
      " - 0s - loss: 0.0032 - val_loss: 0.0698\n",
      "Epoch 118/500\n",
      " - 0s - loss: 0.0032 - val_loss: 0.0699\n",
      "Epoch 119/500\n",
      " - 0s - loss: 0.0032 - val_loss: 0.0701\n",
      "Epoch 120/500\n",
      " - 0s - loss: 0.0032 - val_loss: 0.0702\n",
      "Epoch 121/500\n",
      " - 0s - loss: 0.0032 - val_loss: 0.0703\n",
      "Epoch 122/500\n",
      " - 0s - loss: 0.0032 - val_loss: 0.0705\n",
      "Epoch 123/500\n",
      " - 0s - loss: 0.0032 - val_loss: 0.0706\n",
      "Epoch 124/500\n",
      " - 0s - loss: 0.0032 - val_loss: 0.0707\n",
      "Epoch 125/500\n",
      " - 0s - loss: 0.0032 - val_loss: 0.0709\n",
      "Epoch 126/500\n",
      " - 0s - loss: 0.0032 - val_loss: 0.0710\n",
      "Epoch 127/500\n",
      " - 0s - loss: 0.0032 - val_loss: 0.0711\n",
      "Epoch 128/500\n",
      " - 0s - loss: 0.0032 - val_loss: 0.0712\n",
      "Epoch 129/500\n",
      " - 0s - loss: 0.0032 - val_loss: 0.0713\n",
      "Epoch 130/500\n",
      " - 0s - loss: 0.0032 - val_loss: 0.0715\n",
      "Epoch 131/500\n",
      " - 0s - loss: 0.0032 - val_loss: 0.0716\n",
      "Epoch 132/500\n",
      " - 0s - loss: 0.0032 - val_loss: 0.0717\n",
      "Epoch 133/500\n",
      " - 0s - loss: 0.0032 - val_loss: 0.0718\n",
      "Epoch 134/500\n",
      " - 0s - loss: 0.0032 - val_loss: 0.0719\n",
      "Epoch 135/500\n",
      " - 0s - loss: 0.0032 - val_loss: 0.0720\n",
      "Epoch 136/500\n",
      " - 0s - loss: 0.0032 - val_loss: 0.0721\n",
      "Epoch 137/500\n",
      " - 0s - loss: 0.0032 - val_loss: 0.0722\n",
      "Epoch 138/500\n",
      " - 0s - loss: 0.0032 - val_loss: 0.0723\n",
      "Epoch 139/500\n",
      " - 0s - loss: 0.0032 - val_loss: 0.0724\n",
      "Epoch 140/500\n",
      " - 0s - loss: 0.0032 - val_loss: 0.0725\n",
      "Epoch 141/500\n",
      " - 0s - loss: 0.0032 - val_loss: 0.0726\n",
      "Epoch 142/500\n",
      " - 0s - loss: 0.0032 - val_loss: 0.0727\n",
      "Epoch 143/500\n",
      " - 0s - loss: 0.0032 - val_loss: 0.0728\n",
      "Epoch 144/500\n",
      " - 0s - loss: 0.0032 - val_loss: 0.0729\n",
      "Epoch 145/500\n",
      " - 0s - loss: 0.0032 - val_loss: 0.0730\n",
      "Epoch 146/500\n",
      " - 0s - loss: 0.0032 - val_loss: 0.0731\n",
      "Epoch 147/500\n",
      " - 0s - loss: 0.0032 - val_loss: 0.0732\n",
      "Epoch 148/500\n",
      " - 0s - loss: 0.0032 - val_loss: 0.0732\n",
      "Epoch 149/500\n",
      " - 0s - loss: 0.0032 - val_loss: 0.0733\n",
      "Epoch 150/500\n",
      " - 0s - loss: 0.0032 - val_loss: 0.0734\n",
      "Epoch 151/500\n",
      " - 0s - loss: 0.0032 - val_loss: 0.0735\n",
      "Epoch 152/500\n",
      " - 0s - loss: 0.0032 - val_loss: 0.0736\n",
      "Epoch 153/500\n",
      " - 0s - loss: 0.0032 - val_loss: 0.0736\n"
     ]
    },
    {
     "name": "stdout",
     "output_type": "stream",
     "text": [
      "Epoch 154/500\n",
      " - 0s - loss: 0.0032 - val_loss: 0.0737\n",
      "Epoch 155/500\n",
      " - 0s - loss: 0.0032 - val_loss: 0.0738\n",
      "Epoch 156/500\n",
      " - 0s - loss: 0.0032 - val_loss: 0.0739\n",
      "Epoch 157/500\n",
      " - 0s - loss: 0.0032 - val_loss: 0.0739\n",
      "Epoch 158/500\n",
      " - 0s - loss: 0.0032 - val_loss: 0.0740\n",
      "Epoch 159/500\n",
      " - 0s - loss: 0.0032 - val_loss: 0.0741\n",
      "Epoch 160/500\n",
      " - 0s - loss: 0.0032 - val_loss: 0.0742\n",
      "Epoch 161/500\n",
      " - 0s - loss: 0.0032 - val_loss: 0.0742\n",
      "Epoch 162/500\n",
      " - 0s - loss: 0.0032 - val_loss: 0.0743\n",
      "Epoch 163/500\n",
      " - 0s - loss: 0.0032 - val_loss: 0.0744\n",
      "Epoch 164/500\n",
      " - 0s - loss: 0.0032 - val_loss: 0.0744\n",
      "Epoch 165/500\n",
      " - 0s - loss: 0.0032 - val_loss: 0.0745\n",
      "Epoch 166/500\n",
      " - 0s - loss: 0.0032 - val_loss: 0.0746\n",
      "Epoch 167/500\n",
      " - 0s - loss: 0.0032 - val_loss: 0.0746\n",
      "Epoch 168/500\n",
      " - 0s - loss: 0.0032 - val_loss: 0.0747\n",
      "Epoch 169/500\n",
      " - 0s - loss: 0.0032 - val_loss: 0.0747\n",
      "Epoch 170/500\n",
      " - 0s - loss: 0.0032 - val_loss: 0.0748\n",
      "Epoch 171/500\n",
      " - 0s - loss: 0.0032 - val_loss: 0.0749\n",
      "Epoch 172/500\n",
      " - 0s - loss: 0.0032 - val_loss: 0.0749\n",
      "Epoch 173/500\n",
      " - 0s - loss: 0.0032 - val_loss: 0.0750\n",
      "Epoch 174/500\n",
      " - 0s - loss: 0.0032 - val_loss: 0.0751\n",
      "Epoch 175/500\n",
      " - 0s - loss: 0.0031 - val_loss: 0.0751\n",
      "Epoch 176/500\n",
      " - 0s - loss: 0.0031 - val_loss: 0.0752\n",
      "Epoch 177/500\n",
      " - 0s - loss: 0.0031 - val_loss: 0.0752\n",
      "Epoch 178/500\n",
      " - 0s - loss: 0.0031 - val_loss: 0.0753\n",
      "Epoch 179/500\n",
      " - 0s - loss: 0.0031 - val_loss: 0.0754\n",
      "Epoch 180/500\n",
      " - 0s - loss: 0.0031 - val_loss: 0.0754\n",
      "Epoch 181/500\n",
      " - 0s - loss: 0.0031 - val_loss: 0.0755\n",
      "Epoch 182/500\n",
      " - 0s - loss: 0.0031 - val_loss: 0.0755\n",
      "Epoch 183/500\n",
      " - 0s - loss: 0.0031 - val_loss: 0.0756\n",
      "Epoch 184/500\n",
      " - 0s - loss: 0.0031 - val_loss: 0.0756\n",
      "Epoch 185/500\n",
      " - 0s - loss: 0.0031 - val_loss: 0.0757\n",
      "Epoch 186/500\n",
      " - 0s - loss: 0.0031 - val_loss: 0.0758\n",
      "Epoch 187/500\n",
      " - 0s - loss: 0.0031 - val_loss: 0.0758\n",
      "Epoch 188/500\n",
      " - 0s - loss: 0.0031 - val_loss: 0.0759\n",
      "Epoch 189/500\n",
      " - 0s - loss: 0.0031 - val_loss: 0.0759\n",
      "Epoch 190/500\n",
      " - 0s - loss: 0.0031 - val_loss: 0.0760\n",
      "Epoch 191/500\n",
      " - 0s - loss: 0.0031 - val_loss: 0.0760\n",
      "Epoch 192/500\n",
      " - 0s - loss: 0.0031 - val_loss: 0.0761\n",
      "Epoch 193/500\n",
      " - 0s - loss: 0.0031 - val_loss: 0.0761\n",
      "Epoch 194/500\n",
      " - 0s - loss: 0.0031 - val_loss: 0.0762\n",
      "Epoch 195/500\n",
      " - 0s - loss: 0.0031 - val_loss: 0.0763\n",
      "Epoch 196/500\n",
      " - 0s - loss: 0.0031 - val_loss: 0.0763\n",
      "Epoch 197/500\n",
      " - 0s - loss: 0.0031 - val_loss: 0.0764\n",
      "Epoch 198/500\n",
      " - 0s - loss: 0.0031 - val_loss: 0.0764\n",
      "Epoch 199/500\n",
      " - 0s - loss: 0.0031 - val_loss: 0.0765\n",
      "Epoch 200/500\n",
      " - 0s - loss: 0.0031 - val_loss: 0.0765\n",
      "Epoch 201/500\n",
      " - 0s - loss: 0.0031 - val_loss: 0.0766\n",
      "Epoch 202/500\n",
      " - 0s - loss: 0.0031 - val_loss: 0.0766\n",
      "Epoch 203/500\n",
      " - 0s - loss: 0.0031 - val_loss: 0.0767\n",
      "Epoch 204/500\n",
      " - 0s - loss: 0.0031 - val_loss: 0.0768\n",
      "Epoch 205/500\n",
      " - 0s - loss: 0.0031 - val_loss: 0.0768\n",
      "Epoch 206/500\n",
      " - 0s - loss: 0.0031 - val_loss: 0.0769\n",
      "Epoch 207/500\n",
      " - 0s - loss: 0.0031 - val_loss: 0.0769\n",
      "Epoch 208/500\n",
      " - 0s - loss: 0.0031 - val_loss: 0.0770\n",
      "Epoch 209/500\n",
      " - 0s - loss: 0.0031 - val_loss: 0.0770\n",
      "Epoch 210/500\n",
      " - 0s - loss: 0.0031 - val_loss: 0.0771\n",
      "Epoch 211/500\n",
      " - 0s - loss: 0.0031 - val_loss: 0.0772\n",
      "Epoch 212/500\n",
      " - 0s - loss: 0.0031 - val_loss: 0.0772\n",
      "Epoch 213/500\n",
      " - 0s - loss: 0.0031 - val_loss: 0.0773\n",
      "Epoch 214/500\n",
      " - 0s - loss: 0.0031 - val_loss: 0.0773\n",
      "Epoch 215/500\n",
      " - 0s - loss: 0.0031 - val_loss: 0.0774\n",
      "Epoch 216/500\n",
      " - 0s - loss: 0.0031 - val_loss: 0.0774\n",
      "Epoch 217/500\n",
      " - 0s - loss: 0.0031 - val_loss: 0.0775\n",
      "Epoch 218/500\n",
      " - 0s - loss: 0.0031 - val_loss: 0.0775\n",
      "Epoch 219/500\n",
      " - 0s - loss: 0.0031 - val_loss: 0.0776\n",
      "Epoch 220/500\n",
      " - 0s - loss: 0.0031 - val_loss: 0.0777\n",
      "Epoch 221/500\n",
      " - 0s - loss: 0.0031 - val_loss: 0.0777\n",
      "Epoch 222/500\n",
      " - 0s - loss: 0.0031 - val_loss: 0.0778\n",
      "Epoch 223/500\n",
      " - 0s - loss: 0.0031 - val_loss: 0.0778\n",
      "Epoch 224/500\n",
      " - 0s - loss: 0.0031 - val_loss: 0.0779\n",
      "Epoch 225/500\n",
      " - 0s - loss: 0.0031 - val_loss: 0.0779\n",
      "Epoch 226/500\n",
      " - 0s - loss: 0.0031 - val_loss: 0.0780\n",
      "Epoch 227/500\n",
      " - 0s - loss: 0.0031 - val_loss: 0.0781\n",
      "Epoch 228/500\n",
      " - 0s - loss: 0.0031 - val_loss: 0.0781\n",
      "Epoch 229/500\n",
      " - 0s - loss: 0.0031 - val_loss: 0.0782\n",
      "Epoch 230/500\n",
      " - 0s - loss: 0.0031 - val_loss: 0.0782\n",
      "Epoch 231/500\n",
      " - 0s - loss: 0.0031 - val_loss: 0.0783\n",
      "Epoch 232/500\n",
      " - 0s - loss: 0.0031 - val_loss: 0.0784\n",
      "Epoch 233/500\n",
      " - 0s - loss: 0.0031 - val_loss: 0.0784\n",
      "Epoch 234/500\n",
      " - 0s - loss: 0.0031 - val_loss: 0.0785\n",
      "Epoch 235/500\n",
      " - 0s - loss: 0.0031 - val_loss: 0.0785\n",
      "Epoch 236/500\n",
      " - 0s - loss: 0.0031 - val_loss: 0.0786\n",
      "Epoch 237/500\n",
      " - 0s - loss: 0.0031 - val_loss: 0.0786\n",
      "Epoch 238/500\n",
      " - 0s - loss: 0.0031 - val_loss: 0.0787\n",
      "Epoch 239/500\n",
      " - 0s - loss: 0.0031 - val_loss: 0.0788\n",
      "Epoch 240/500\n",
      " - 0s - loss: 0.0031 - val_loss: 0.0788\n",
      "Epoch 241/500\n",
      " - 0s - loss: 0.0031 - val_loss: 0.0789\n",
      "Epoch 242/500\n",
      " - 0s - loss: 0.0031 - val_loss: 0.0789\n",
      "Epoch 243/500\n",
      " - 0s - loss: 0.0031 - val_loss: 0.0790\n",
      "Epoch 244/500\n",
      " - 0s - loss: 0.0031 - val_loss: 0.0791\n",
      "Epoch 245/500\n",
      " - 0s - loss: 0.0031 - val_loss: 0.0791\n",
      "Epoch 246/500\n",
      " - 0s - loss: 0.0031 - val_loss: 0.0792\n",
      "Epoch 247/500\n",
      " - 0s - loss: 0.0031 - val_loss: 0.0792\n",
      "Epoch 248/500\n",
      " - 0s - loss: 0.0031 - val_loss: 0.0793\n",
      "Epoch 249/500\n",
      " - 0s - loss: 0.0031 - val_loss: 0.0794\n",
      "Epoch 250/500\n",
      " - 0s - loss: 0.0031 - val_loss: 0.0794\n",
      "Epoch 251/500\n",
      " - 0s - loss: 0.0031 - val_loss: 0.0795\n",
      "Epoch 252/500\n",
      " - 0s - loss: 0.0031 - val_loss: 0.0795\n",
      "Epoch 253/500\n",
      " - 0s - loss: 0.0031 - val_loss: 0.0796\n",
      "Epoch 254/500\n",
      " - 0s - loss: 0.0031 - val_loss: 0.0797\n",
      "Epoch 255/500\n",
      " - 0s - loss: 0.0031 - val_loss: 0.0797\n",
      "Epoch 256/500\n",
      " - 0s - loss: 0.0031 - val_loss: 0.0798\n",
      "Epoch 257/500\n",
      " - 0s - loss: 0.0031 - val_loss: 0.0798\n",
      "Epoch 258/500\n",
      " - 0s - loss: 0.0031 - val_loss: 0.0799\n",
      "Epoch 259/500\n",
      " - 0s - loss: 0.0031 - val_loss: 0.0800\n",
      "Epoch 260/500\n",
      " - 0s - loss: 0.0031 - val_loss: 0.0800\n",
      "Epoch 261/500\n",
      " - 0s - loss: 0.0031 - val_loss: 0.0801\n",
      "Epoch 262/500\n",
      " - 0s - loss: 0.0031 - val_loss: 0.0801\n",
      "Epoch 263/500\n",
      " - 0s - loss: 0.0031 - val_loss: 0.0802\n",
      "Epoch 264/500\n",
      " - 0s - loss: 0.0031 - val_loss: 0.0803\n",
      "Epoch 265/500\n",
      " - 0s - loss: 0.0031 - val_loss: 0.0803\n",
      "Epoch 266/500\n",
      " - 0s - loss: 0.0031 - val_loss: 0.0804\n",
      "Epoch 267/500\n",
      " - 0s - loss: 0.0031 - val_loss: 0.0805\n",
      "Epoch 268/500\n",
      " - 0s - loss: 0.0031 - val_loss: 0.0805\n",
      "Epoch 269/500\n",
      " - 0s - loss: 0.0031 - val_loss: 0.0806\n",
      "Epoch 270/500\n",
      " - 0s - loss: 0.0031 - val_loss: 0.0806\n",
      "Epoch 271/500\n",
      " - 0s - loss: 0.0031 - val_loss: 0.0807\n",
      "Epoch 272/500\n",
      " - 0s - loss: 0.0031 - val_loss: 0.0808\n",
      "Epoch 273/500\n",
      " - 0s - loss: 0.0030 - val_loss: 0.0808\n",
      "Epoch 274/500\n",
      " - 0s - loss: 0.0030 - val_loss: 0.0809\n",
      "Epoch 275/500\n",
      " - 0s - loss: 0.0030 - val_loss: 0.0809\n",
      "Epoch 276/500\n",
      " - 0s - loss: 0.0030 - val_loss: 0.0810\n",
      "Epoch 277/500\n",
      " - 0s - loss: 0.0030 - val_loss: 0.0811\n",
      "Epoch 278/500\n",
      " - 0s - loss: 0.0030 - val_loss: 0.0811\n",
      "Epoch 279/500\n",
      " - 0s - loss: 0.0030 - val_loss: 0.0812\n",
      "Epoch 280/500\n",
      " - 0s - loss: 0.0030 - val_loss: 0.0813\n",
      "Epoch 281/500\n",
      " - 0s - loss: 0.0030 - val_loss: 0.0813\n",
      "Epoch 282/500\n",
      " - 0s - loss: 0.0030 - val_loss: 0.0814\n",
      "Epoch 283/500\n",
      " - 0s - loss: 0.0030 - val_loss: 0.0814\n",
      "Epoch 284/500\n",
      " - 0s - loss: 0.0030 - val_loss: 0.0815\n",
      "Epoch 285/500\n",
      " - 0s - loss: 0.0030 - val_loss: 0.0816\n",
      "Epoch 286/500\n",
      " - 0s - loss: 0.0030 - val_loss: 0.0816\n",
      "Epoch 287/500\n",
      " - 0s - loss: 0.0030 - val_loss: 0.0817\n",
      "Epoch 288/500\n",
      " - 0s - loss: 0.0030 - val_loss: 0.0818\n",
      "Epoch 289/500\n",
      " - 0s - loss: 0.0030 - val_loss: 0.0818\n",
      "Epoch 290/500\n",
      " - 0s - loss: 0.0030 - val_loss: 0.0819\n",
      "Epoch 291/500\n",
      " - 0s - loss: 0.0030 - val_loss: 0.0819\n",
      "Epoch 292/500\n",
      " - 0s - loss: 0.0030 - val_loss: 0.0820\n",
      "Epoch 293/500\n",
      " - 0s - loss: 0.0030 - val_loss: 0.0821\n",
      "Epoch 294/500\n",
      " - 0s - loss: 0.0030 - val_loss: 0.0821\n",
      "Epoch 295/500\n",
      " - 0s - loss: 0.0030 - val_loss: 0.0822\n",
      "Epoch 296/500\n",
      " - 0s - loss: 0.0030 - val_loss: 0.0823\n",
      "Epoch 297/500\n",
      " - 0s - loss: 0.0030 - val_loss: 0.0823\n",
      "Epoch 298/500\n",
      " - 0s - loss: 0.0030 - val_loss: 0.0824\n",
      "Epoch 299/500\n",
      " - 0s - loss: 0.0030 - val_loss: 0.0824\n",
      "Epoch 300/500\n",
      " - 0s - loss: 0.0030 - val_loss: 0.0825\n",
      "Epoch 301/500\n",
      " - 0s - loss: 0.0030 - val_loss: 0.0826\n",
      "Epoch 302/500\n",
      " - 0s - loss: 0.0030 - val_loss: 0.0826\n",
      "Epoch 303/500\n",
      " - 0s - loss: 0.0030 - val_loss: 0.0827\n",
      "Epoch 304/500\n",
      " - 0s - loss: 0.0030 - val_loss: 0.0827\n",
      "Epoch 305/500\n",
      " - 0s - loss: 0.0030 - val_loss: 0.0828\n"
     ]
    },
    {
     "name": "stdout",
     "output_type": "stream",
     "text": [
      "Epoch 306/500\n",
      " - 0s - loss: 0.0030 - val_loss: 0.0829\n",
      "Epoch 307/500\n",
      " - 0s - loss: 0.0030 - val_loss: 0.0829\n",
      "Epoch 308/500\n",
      " - 0s - loss: 0.0030 - val_loss: 0.0830\n",
      "Epoch 309/500\n",
      " - 0s - loss: 0.0030 - val_loss: 0.0831\n",
      "Epoch 310/500\n",
      " - 0s - loss: 0.0030 - val_loss: 0.0831\n",
      "Epoch 311/500\n",
      " - 0s - loss: 0.0030 - val_loss: 0.0832\n",
      "Epoch 312/500\n",
      " - 0s - loss: 0.0030 - val_loss: 0.0832\n",
      "Epoch 313/500\n",
      " - 0s - loss: 0.0030 - val_loss: 0.0833\n",
      "Epoch 314/500\n",
      " - 0s - loss: 0.0030 - val_loss: 0.0834\n",
      "Epoch 315/500\n",
      " - 0s - loss: 0.0030 - val_loss: 0.0834\n",
      "Epoch 316/500\n",
      " - 0s - loss: 0.0030 - val_loss: 0.0835\n",
      "Epoch 317/500\n",
      " - 0s - loss: 0.0030 - val_loss: 0.0836\n",
      "Epoch 318/500\n",
      " - 0s - loss: 0.0030 - val_loss: 0.0836\n",
      "Epoch 319/500\n",
      " - 0s - loss: 0.0030 - val_loss: 0.0837\n",
      "Epoch 320/500\n",
      " - 0s - loss: 0.0030 - val_loss: 0.0837\n",
      "Epoch 321/500\n",
      " - 0s - loss: 0.0030 - val_loss: 0.0838\n",
      "Epoch 322/500\n",
      " - 0s - loss: 0.0030 - val_loss: 0.0839\n",
      "Epoch 323/500\n",
      " - 0s - loss: 0.0030 - val_loss: 0.0839\n",
      "Epoch 324/500\n",
      " - 0s - loss: 0.0030 - val_loss: 0.0840\n",
      "Epoch 325/500\n",
      " - 0s - loss: 0.0030 - val_loss: 0.0840\n",
      "Epoch 326/500\n",
      " - 0s - loss: 0.0030 - val_loss: 0.0841\n",
      "Epoch 327/500\n",
      " - 0s - loss: 0.0030 - val_loss: 0.0842\n",
      "Epoch 328/500\n",
      " - 0s - loss: 0.0030 - val_loss: 0.0842\n",
      "Epoch 329/500\n",
      " - 0s - loss: 0.0030 - val_loss: 0.0843\n",
      "Epoch 330/500\n",
      " - 0s - loss: 0.0030 - val_loss: 0.0844\n",
      "Epoch 331/500\n",
      " - 0s - loss: 0.0030 - val_loss: 0.0844\n",
      "Epoch 332/500\n",
      " - 0s - loss: 0.0030 - val_loss: 0.0845\n",
      "Epoch 333/500\n",
      " - 0s - loss: 0.0030 - val_loss: 0.0845\n",
      "Epoch 334/500\n",
      " - 0s - loss: 0.0030 - val_loss: 0.0846\n",
      "Epoch 335/500\n"
     ]
    },
    {
     "ename": "KeyboardInterrupt",
     "evalue": "",
     "output_type": "error",
     "traceback": [
      "\u001b[0;31m---------------------------------------------------------------------------\u001b[0m",
      "\u001b[0;31mKeyboardInterrupt\u001b[0m                         Traceback (most recent call last)",
      "\u001b[0;32m<ipython-input-46-0b336ebcf111>\u001b[0m in \u001b[0;36m<module>\u001b[0;34m()\u001b[0m\n\u001b[1;32m      3\u001b[0m     \u001b[0mvalidation_data\u001b[0m\u001b[0;34m=\u001b[0m\u001b[0;34m(\u001b[0m\u001b[0mtestX\u001b[0m\u001b[0;34m,\u001b[0m \u001b[0mtestY\u001b[0m\u001b[0;34m)\u001b[0m\u001b[0;34m,\u001b[0m\u001b[0;34m\u001b[0m\u001b[0m\n\u001b[1;32m      4\u001b[0m     \u001b[0mepochs\u001b[0m\u001b[0;34m=\u001b[0m\u001b[0;36m500\u001b[0m\u001b[0;34m,\u001b[0m\u001b[0;34m\u001b[0m\u001b[0m\n\u001b[0;32m----> 5\u001b[0;31m     \u001b[0mverbose\u001b[0m\u001b[0;34m=\u001b[0m\u001b[0;36m2\u001b[0m\u001b[0;34m\u001b[0m\u001b[0m\n\u001b[0m\u001b[1;32m      6\u001b[0m )\n",
      "\u001b[0;32m/home/jordan/.local/lib/python2.7/site-packages/keras/engine/training.pyc\u001b[0m in \u001b[0;36mfit\u001b[0;34m(self, x, y, batch_size, epochs, verbose, callbacks, validation_split, validation_data, shuffle, class_weight, sample_weight, initial_epoch, steps_per_epoch, validation_steps, **kwargs)\u001b[0m\n\u001b[1;32m   1037\u001b[0m                                         \u001b[0minitial_epoch\u001b[0m\u001b[0;34m=\u001b[0m\u001b[0minitial_epoch\u001b[0m\u001b[0;34m,\u001b[0m\u001b[0;34m\u001b[0m\u001b[0m\n\u001b[1;32m   1038\u001b[0m                                         \u001b[0msteps_per_epoch\u001b[0m\u001b[0;34m=\u001b[0m\u001b[0msteps_per_epoch\u001b[0m\u001b[0;34m,\u001b[0m\u001b[0;34m\u001b[0m\u001b[0m\n\u001b[0;32m-> 1039\u001b[0;31m                                         validation_steps=validation_steps)\n\u001b[0m\u001b[1;32m   1040\u001b[0m \u001b[0;34m\u001b[0m\u001b[0m\n\u001b[1;32m   1041\u001b[0m     def evaluate(self, x=None, y=None,\n",
      "\u001b[0;32m/home/jordan/.local/lib/python2.7/site-packages/keras/engine/training_arrays.pyc\u001b[0m in \u001b[0;36mfit_loop\u001b[0;34m(model, f, ins, out_labels, batch_size, epochs, verbose, callbacks, val_f, val_ins, shuffle, callback_metrics, initial_epoch, steps_per_epoch, validation_steps)\u001b[0m\n\u001b[1;32m    197\u001b[0m                     \u001b[0mins_batch\u001b[0m\u001b[0;34m[\u001b[0m\u001b[0mi\u001b[0m\u001b[0;34m]\u001b[0m \u001b[0;34m=\u001b[0m \u001b[0mins_batch\u001b[0m\u001b[0;34m[\u001b[0m\u001b[0mi\u001b[0m\u001b[0;34m]\u001b[0m\u001b[0;34m.\u001b[0m\u001b[0mtoarray\u001b[0m\u001b[0;34m(\u001b[0m\u001b[0;34m)\u001b[0m\u001b[0;34m\u001b[0m\u001b[0m\n\u001b[1;32m    198\u001b[0m \u001b[0;34m\u001b[0m\u001b[0m\n\u001b[0;32m--> 199\u001b[0;31m                 \u001b[0mouts\u001b[0m \u001b[0;34m=\u001b[0m \u001b[0mf\u001b[0m\u001b[0;34m(\u001b[0m\u001b[0mins_batch\u001b[0m\u001b[0;34m)\u001b[0m\u001b[0;34m\u001b[0m\u001b[0m\n\u001b[0m\u001b[1;32m    200\u001b[0m                 \u001b[0mouts\u001b[0m \u001b[0;34m=\u001b[0m \u001b[0mto_list\u001b[0m\u001b[0;34m(\u001b[0m\u001b[0mouts\u001b[0m\u001b[0;34m)\u001b[0m\u001b[0;34m\u001b[0m\u001b[0m\n\u001b[1;32m    201\u001b[0m                 \u001b[0;32mfor\u001b[0m \u001b[0ml\u001b[0m\u001b[0;34m,\u001b[0m \u001b[0mo\u001b[0m \u001b[0;32min\u001b[0m \u001b[0mzip\u001b[0m\u001b[0;34m(\u001b[0m\u001b[0mout_labels\u001b[0m\u001b[0;34m,\u001b[0m \u001b[0mouts\u001b[0m\u001b[0;34m)\u001b[0m\u001b[0;34m:\u001b[0m\u001b[0;34m\u001b[0m\u001b[0m\n",
      "\u001b[0;32m/home/jordan/.local/lib/python2.7/site-packages/keras/backend/tensorflow_backend.pyc\u001b[0m in \u001b[0;36m__call__\u001b[0;34m(self, inputs)\u001b[0m\n\u001b[1;32m   2713\u001b[0m                 \u001b[0;32mreturn\u001b[0m \u001b[0mself\u001b[0m\u001b[0;34m.\u001b[0m\u001b[0m_legacy_call\u001b[0m\u001b[0;34m(\u001b[0m\u001b[0minputs\u001b[0m\u001b[0;34m)\u001b[0m\u001b[0;34m\u001b[0m\u001b[0m\n\u001b[1;32m   2714\u001b[0m \u001b[0;34m\u001b[0m\u001b[0m\n\u001b[0;32m-> 2715\u001b[0;31m             \u001b[0;32mreturn\u001b[0m \u001b[0mself\u001b[0m\u001b[0;34m.\u001b[0m\u001b[0m_call\u001b[0m\u001b[0;34m(\u001b[0m\u001b[0minputs\u001b[0m\u001b[0;34m)\u001b[0m\u001b[0;34m\u001b[0m\u001b[0m\n\u001b[0m\u001b[1;32m   2716\u001b[0m         \u001b[0;32melse\u001b[0m\u001b[0;34m:\u001b[0m\u001b[0;34m\u001b[0m\u001b[0m\n\u001b[1;32m   2717\u001b[0m             \u001b[0;32mif\u001b[0m \u001b[0mpy_any\u001b[0m\u001b[0;34m(\u001b[0m\u001b[0mis_tensor\u001b[0m\u001b[0;34m(\u001b[0m\u001b[0mx\u001b[0m\u001b[0;34m)\u001b[0m \u001b[0;32mfor\u001b[0m \u001b[0mx\u001b[0m \u001b[0;32min\u001b[0m \u001b[0minputs\u001b[0m\u001b[0;34m)\u001b[0m\u001b[0;34m:\u001b[0m\u001b[0;34m\u001b[0m\u001b[0m\n",
      "\u001b[0;32m/home/jordan/.local/lib/python2.7/site-packages/keras/backend/tensorflow_backend.pyc\u001b[0m in \u001b[0;36m_call\u001b[0;34m(self, inputs)\u001b[0m\n\u001b[1;32m   2673\u001b[0m             \u001b[0mfetched\u001b[0m \u001b[0;34m=\u001b[0m \u001b[0mself\u001b[0m\u001b[0;34m.\u001b[0m\u001b[0m_callable_fn\u001b[0m\u001b[0;34m(\u001b[0m\u001b[0;34m*\u001b[0m\u001b[0marray_vals\u001b[0m\u001b[0;34m,\u001b[0m \u001b[0mrun_metadata\u001b[0m\u001b[0;34m=\u001b[0m\u001b[0mself\u001b[0m\u001b[0;34m.\u001b[0m\u001b[0mrun_metadata\u001b[0m\u001b[0;34m)\u001b[0m\u001b[0;34m\u001b[0m\u001b[0m\n\u001b[1;32m   2674\u001b[0m         \u001b[0;32melse\u001b[0m\u001b[0;34m:\u001b[0m\u001b[0;34m\u001b[0m\u001b[0m\n\u001b[0;32m-> 2675\u001b[0;31m             \u001b[0mfetched\u001b[0m \u001b[0;34m=\u001b[0m \u001b[0mself\u001b[0m\u001b[0;34m.\u001b[0m\u001b[0m_callable_fn\u001b[0m\u001b[0;34m(\u001b[0m\u001b[0;34m*\u001b[0m\u001b[0marray_vals\u001b[0m\u001b[0;34m)\u001b[0m\u001b[0;34m\u001b[0m\u001b[0m\n\u001b[0m\u001b[1;32m   2676\u001b[0m         \u001b[0;32mreturn\u001b[0m \u001b[0mfetched\u001b[0m\u001b[0;34m[\u001b[0m\u001b[0;34m:\u001b[0m\u001b[0mlen\u001b[0m\u001b[0;34m(\u001b[0m\u001b[0mself\u001b[0m\u001b[0;34m.\u001b[0m\u001b[0moutputs\u001b[0m\u001b[0;34m)\u001b[0m\u001b[0;34m]\u001b[0m\u001b[0;34m\u001b[0m\u001b[0m\n\u001b[1;32m   2677\u001b[0m \u001b[0;34m\u001b[0m\u001b[0m\n",
      "\u001b[0;32m/home/jordan/.local/lib/python2.7/site-packages/tensorflow/python/client/session.pyc\u001b[0m in \u001b[0;36m__call__\u001b[0;34m(self, *args, **kwargs)\u001b[0m\n\u001b[1;32m   1437\u001b[0m           ret = tf_session.TF_SessionRunCallable(\n\u001b[1;32m   1438\u001b[0m               \u001b[0mself\u001b[0m\u001b[0;34m.\u001b[0m\u001b[0m_session\u001b[0m\u001b[0;34m.\u001b[0m\u001b[0m_session\u001b[0m\u001b[0;34m,\u001b[0m \u001b[0mself\u001b[0m\u001b[0;34m.\u001b[0m\u001b[0m_handle\u001b[0m\u001b[0;34m,\u001b[0m \u001b[0margs\u001b[0m\u001b[0;34m,\u001b[0m \u001b[0mstatus\u001b[0m\u001b[0;34m,\u001b[0m\u001b[0;34m\u001b[0m\u001b[0m\n\u001b[0;32m-> 1439\u001b[0;31m               run_metadata_ptr)\n\u001b[0m\u001b[1;32m   1440\u001b[0m         \u001b[0;32mif\u001b[0m \u001b[0mrun_metadata\u001b[0m\u001b[0;34m:\u001b[0m\u001b[0;34m\u001b[0m\u001b[0m\n\u001b[1;32m   1441\u001b[0m           \u001b[0mproto_data\u001b[0m \u001b[0;34m=\u001b[0m \u001b[0mtf_session\u001b[0m\u001b[0;34m.\u001b[0m\u001b[0mTF_GetBuffer\u001b[0m\u001b[0;34m(\u001b[0m\u001b[0mrun_metadata_ptr\u001b[0m\u001b[0;34m)\u001b[0m\u001b[0;34m\u001b[0m\u001b[0m\n",
      "\u001b[0;31mKeyboardInterrupt\u001b[0m: "
     ]
    }
   ],
   "source": [
    "model.fit(\n",
    "    trainX, trainY,\n",
    "    validation_data=(testX, testY),\n",
    "    epochs=500,\n",
    "    verbose=2\n",
    ")"
   ]
  },
  {
   "cell_type": "markdown",
   "metadata": {
    "slideshow": {
     "slide_type": "slide"
    }
   },
   "source": [
    "# Predictions"
   ]
  },
  {
   "cell_type": "code",
   "execution_count": 47,
   "metadata": {},
   "outputs": [],
   "source": [
    "# make predictions\n",
    "trainPredict = model.predict(trainX)\n",
    "testPredict = model.predict(testY)\n",
    "\n",
    "# invert predictions\n",
    "trainPredict = scaler.inverse_transform(trainPredict.reshape(1,-1)).squeeze()\n",
    "un_trainY = scaler.inverse_transform([trainY.squeeze()]).squeeze()\n",
    "testPredict = scaler.inverse_transform(testPredict.reshape(1,-1)).squeeze()\n",
    "un_testY = scaler.inverse_transform([testY.squeeze()]).squeeze()"
   ]
  },
  {
   "cell_type": "markdown",
   "metadata": {
    "slideshow": {
     "slide_type": "slide"
    }
   },
   "source": [
    "# Plotting\n",
    "* True training data\n",
    "* Predicted training data, true test data, and "
   ]
  },
  {
   "cell_type": "code",
   "execution_count": 48,
   "metadata": {},
   "outputs": [],
   "source": [
    "from IPython.core.pylabtools import figsize\n",
    "figsize(14, 7)"
   ]
  },
  {
   "cell_type": "code",
   "execution_count": 49,
   "metadata": {},
   "outputs": [
    {
     "data": {
      "image/png": "[encoded data removed]",
      "text/plain": [
       "<Figure size 1008x504 with 2 Axes>"
      ]
     },
     "metadata": {
      "needs_background": "light"
     },
     "output_type": "display_data"
    }
   ],
   "source": [
    "plt.subplot(1,2,1)\n",
    "plt.plot(un_trainY, label='True')\n",
    "plt.plot(trainPredict, label='Predicted')\n",
    "\n",
    "plt.legend(); plt.xlabel('Time');\n",
    "\n",
    "plt.subplot(1,2,2)\n",
    "plt.plot(un_testY, label='True')\n",
    "plt.plot(testPredict, label='Predicted')\n",
    "\n",
    "plt.legend(); plt.xlabel('Time');"
   ]
  },
  {
   "cell_type": "markdown",
   "metadata": {
    "slideshow": {
     "slide_type": "slide"
    }
   },
   "source": [
    "# Natural Language Processing"
   ]
  },
  {
   "cell_type": "markdown",
   "metadata": {
    "slideshow": {
     "slide_type": "slide"
    }
   },
   "source": [
    "# Word Embeddings\n",
    "* Why do we need word embeddings?\n",
    "* What is wrong with one hot encoding?\n",
    "<center><img src='data:image/png;base64,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'>"
   ]
  },
  {
   "cell_type": "markdown",
   "metadata": {
    "slideshow": {
     "slide_type": "slide"
    }
   },
   "source": [
    "<center><img src=\"https://shanelynnwebsite-mid9n9g1q9y8tt.netdna-ssl.com/wp-content/uploads/2018/01/word-vector-space-similar-words.png\">"
   ]
  },
  {
   "cell_type": "markdown",
   "metadata": {
    "slideshow": {
     "slide_type": "slide"
    }
   },
   "source": [
    "<img src='https://miro.medium.com/max/3010/1*sXNXYfAqfLUeiDXPCo130w.png'>"
   ]
  },
  {
   "cell_type": "markdown",
   "metadata": {
    "slideshow": {
     "slide_type": "slide"
    }
   },
   "source": [
    "# Word2Vec\n",
    "<center><img src='https://pvsmt99345.i.lithium.com/t5/image/serverpage/image-id/45458iDEB69E518EBA3AD9/image-size/large?v=1.0&px=999'>"
   ]
  },
  {
   "cell_type": "markdown",
   "metadata": {
    "slideshow": {
     "slide_type": "slide"
    }
   },
   "source": [
    "# RNNs for Language Modeling\n",
    "* Why is using a fully connected (dense) model a bad idea?"
   ]
  },
  {
   "cell_type": "markdown",
   "metadata": {
    "slideshow": {
     "slide_type": "fragment"
    }
   },
   "source": [
    "* Language has temporal information\n",
    "* Just like images have spatial information"
   ]
  },
  {
   "cell_type": "markdown",
   "metadata": {
    "slideshow": {
     "slide_type": "slide"
    }
   },
   "source": [
    "<center><img src='https://miro.medium.com/max/632/1*JxlLbEz9M8-SOmzFiz0kBQ.png' width=1000>"
   ]
  },
  {
   "cell_type": "markdown",
   "metadata": {
    "slideshow": {
     "slide_type": "slide"
    }
   },
   "source": [
    "# Embedding Layer"
   ]
  },
  {
   "cell_type": "code",
   "execution_count": null,
   "metadata": {},
   "outputs": [],
   "source": [
    "keras.layers.Embedding(\n",
    "    input_dim, \n",
    "    output_dim, \n",
    "    embeddings_initializer='uniform', \n",
    "    embeddings_regularizer=None, \n",
    "    activity_regularizer=None, \n",
    "    embeddings_constraint=None, \n",
    "    mask_zero=False, \n",
    "    input_length=None\n",
    ")"
   ]
  },
  {
   "cell_type": "markdown",
   "metadata": {
    "slideshow": {
     "slide_type": "slide"
    }
   },
   "source": [
    "# References\n",
    "[Understanding LSTMs](http://colah.github.io/posts/2015-08-Understanding-LSTMs/)"
   ]
  }
 ],
 "metadata": {
  "celltoolbar": "Slideshow",
  "kernelspec": {
   "display_name": "Python 2",
   "language": "python",
   "name": "python2"
  },
  "language_info": {
   "codemirror_mode": {
    "name": "ipython",
    "version": 2
   },
   "file_extension": ".py",
   "mimetype": "text/x-python",
   "name": "python",
   "nbconvert_exporter": "python",
   "pygments_lexer": "ipython2",
   "version": "2.7.12"
  }
 },
 "nbformat": 4,
 "nbformat_minor": 2
}
