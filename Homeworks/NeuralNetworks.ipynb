{
 "cells": [
  {
   "cell_type": "markdown",
   "metadata": {},
   "source": [
    "# Neural Networks\n",
    "---\n",
    "You will need to install [keras](https://keras.io/#installation)"
   ]
  },
  {
   "cell_type": "code",
   "execution_count": 1,
   "metadata": {},
   "outputs": [
    {
     "name": "stderr",
     "output_type": "stream",
     "text": [
      "Using TensorFlow backend.\n"
     ]
    }
   ],
   "source": [
    "import keras\n",
    "import numpy as np\n",
    "import matplotlib.pyplot as plt\n",
    "from keras.datasets import mnist\n",
    "\n",
    "np.random.seed(0)"
   ]
  },
  {
   "cell_type": "markdown",
   "metadata": {},
   "source": [
    "### Load MNIST Dataset"
   ]
  },
  {
   "cell_type": "code",
   "execution_count": 5,
   "metadata": {},
   "outputs": [
    {
     "data": {
      "image/png": "[encoded data removed]",
      "text/plain": [
       "<matplotlib.figure.Figure at 0x7feb99920610>"
      ]
     },
     "metadata": {},
     "output_type": "display_data"
    }
   ],
   "source": [
    "(x_train, y_train), (x_test, y_test) = mnist.load_data()\n",
    "\n",
    "plt.figure(figsize=(15,10))\n",
    "for i in range(9):\n",
    "    plt.subplot(3,3,i+1)\n",
    "    plt.imshow(x_train[i], cmap='gray', interpolation='none')\n",
    "    plt.title(\"Class {}\".format(y_train[i]))\n",
    "plt.show()"
   ]
  },
  {
   "cell_type": "code",
   "execution_count": 6,
   "metadata": {},
   "outputs": [],
   "source": [
    "def show_img(img, label):\n",
    "    img = img.reshape(28,28)\n",
    "    \n",
    "    plt.figure(figsize=(15,5))\n",
    "    plt.subplot(1, 2, 1)\n",
    "    plt.imshow(img, cmap='gray')\n",
    "    \n",
    "    if type(label) == np.uint8:\n",
    "        zeros = np.zeros(10)\n",
    "        zeros[label] = 1\n",
    "        label = zeros\n",
    "    \n",
    "    plt.subplot(1, 2, 2)\n",
    "    plt.bar(np.arange(10), label, tick_label=np.arange(10))\n",
    "    plt.show()"
   ]
  },
  {
   "cell_type": "markdown",
   "metadata": {},
   "source": [
    "### Show Image"
   ]
  },
  {
   "cell_type": "code",
   "execution_count": 7,
   "metadata": {},
   "outputs": [],
   "source": [
    "X = x_train[0]; Y = y_train[0]\n",
    "zeros = np.zeros(10); zeros[Y] = 1\n",
    "Y = zeros"
   ]
  },
  {
   "cell_type": "markdown",
   "metadata": {},
   "source": [
    "# Forward pass for a single example\n",
    "Here we implement the forward pass for the network using the single example, $X$, from above"
   ]
  },
  {
   "cell_type": "markdown",
   "metadata": {},
   "source": [
    "### Initialize weights\n",
    "\\begin{align}\n",
    "    \\theta^{(1)} &= \\begin{bmatrix}\n",
    "       \\theta_{11} & ... & \\theta_{1h} \\\\\n",
    "       \\theta_{21} & ... & \\theta_{2h}\\\\\n",
    "       \\vdots & \\vdots & \\vdots \\\\\n",
    "       \\theta_{d1} & ... & \\theta_{dh}\n",
    "     \\end{bmatrix} \n",
    "    &\n",
    "    \\theta^{(2)} &= \\begin{bmatrix}\n",
    "       \\theta_{11} & ... & \\theta_{1c} \\\\\n",
    "       \\theta_{21} & ... & \\theta_{2c}\\\\\n",
    "       \\vdots & \\vdots & \\vdots \\\\\n",
    "       \\theta_{h1} & ... & \\theta_{hc}\n",
    "     \\end{bmatrix}\n",
    "   \\end{align}"
   ]
  },
  {
   "cell_type": "code",
   "execution_count": null,
   "metadata": {},
   "outputs": [],
   "source": [
    "W1 = # create weights for the first layer\n",
    "W2 = # create weights for the second layer"
   ]
  },
  {
   "cell_type": "markdown",
   "metadata": {},
   "source": [
    "### First layer activations\n",
    "\\begin{equation}\n",
    "    Z^{(1)} = X^{(1)} \\theta^{(1)} \n",
    "\\end{equation} \n",
    "\\begin{equation}\n",
    "    X^{(2)} = \\phi_1 ( Z^{(1)} )\n",
    "\\end{equation}"
   ]
  },
  {
   "cell_type": "code",
   "execution_count": null,
   "metadata": {},
   "outputs": [],
   "source": [
    "Z1 = # multiply input with weights\n",
    "\n",
    "def phi_1(z):\n",
    "    return # activation\n",
    "\n",
    "X2 = # activation function of Z1"
   ]
  },
  {
   "cell_type": "markdown",
   "metadata": {},
   "source": [
    "### Second layer activations\n",
    "\\begin{equation}\n",
    "    Z^{(2)} = X^{(2)} \\theta^{(2)} \n",
    "\\end{equation} "
   ]
  },
  {
   "cell_type": "code",
   "execution_count": null,
   "metadata": {},
   "outputs": [],
   "source": [
    "Z2 = # "
   ]
  },
  {
   "cell_type": "markdown",
   "metadata": {},
   "source": [
    "### Softmax Equation\n",
    "\\begin{equation}\n",
    "    \\hat{Y_i} = \\frac{e^{z_{i}}}{\\sum_{j=1}^{c}e^{z_{j}}}\n",
    "\\end{equation} "
   ]
  },
  {
   "cell_type": "code",
   "execution_count": null,
   "metadata": {},
   "outputs": [],
   "source": [
    "# softmax\n",
    "def phi_2(z):\n",
    "    # subracting the max adds numerical stability\n",
    "    shiftx = z - np.max(z)\n",
    "    exps = np.exp(shiftx)\n",
    "    return exps / np.sum(exps)\n",
    "\n",
    "Y_hat = #"
   ]
  },
  {
   "cell_type": "markdown",
   "metadata": {},
   "source": [
    "# Backward pass for single example\n",
    "\n",
    "\\begin{equation}\n",
    "    J(\\theta) = - [Y \\log \\hat{Y} + (1-Y) \\log(1-\\hat{Y})]\n",
    "\\end{equation} \n",
    "\\begin{equation}\n",
    "    \\frac{\\partial J}{\\partial Z^{(2)}} = \\frac{\\partial J}{\\partial \\hat{Y}} \\frac{\\partial \\hat{Y}}{\\partial Z^{(2)}} = \\hat{Y} - Y\n",
    "\\end{equation}"
   ]
  },
  {
   "cell_type": "code",
   "execution_count": null,
   "metadata": {},
   "outputs": [],
   "source": []
  },
  {
   "cell_type": "markdown",
   "metadata": {},
   "source": [
    "\\begin{equation}\n",
    "   \\frac{\\partial J}{\\partial \\theta^{(2)}} = \\frac{\\partial J}{\\partial \\hat{Y}} \\frac{\\partial \\hat{Y}}{\\partial Z^{(2)}} \\frac{\\partial Z^{(2)}}{\\partial \\theta^{(2)}} = (Y-\\hat{Y}) X^{(2)}\n",
    "\\end{equation}  "
   ]
  },
  {
   "cell_type": "code",
   "execution_count": null,
   "metadata": {},
   "outputs": [],
   "source": []
  },
  {
   "cell_type": "markdown",
   "metadata": {},
   "source": [
    "\\begin{equation}\n",
    "    \\frac{\\partial J}{\\partial \\theta^{(1)}} = \\frac{\\partial J}{\\partial \\hat{Y}} \\frac{\\partial \\hat{Y}}{\\partial Z^{(2)}} \\frac{\\partial Z^{(2)}}{\\partial X^{(2)}} \\frac{\\partial X^{(2)}}{\\partial Z^{(1)}} \\frac{\\partial Z^{(1)}}{\\partial \\theta^{(1)}}\n",
    "    = (Y-\\hat{Y}) \\theta^{(2)} \\phi_1'(Z^{(1)}) X^1\n",
    "\\end{equation}"
   ]
  },
  {
   "cell_type": "code",
   "execution_count": null,
   "metadata": {},
   "outputs": [],
   "source": []
  },
  {
   "cell_type": "markdown",
   "metadata": {},
   "source": [
    "# Define Neural Network Class"
   ]
  },
  {
   "cell_type": "code",
   "execution_count": 8,
   "metadata": {},
   "outputs": [],
   "source": [
    "class NeuralNetwork:\n",
    "    def __init__(self, num_hidden_nodes, num_classes, lr=0.001):\n",
    "        # set learning rate\n",
    "        self.lr = lr\n",
    "        \n",
    "        # init layer 1 weights\n",
    "        self.W1 = \n",
    "        self.b1 = \n",
    "        \n",
    "        # init layer 2 weights\n",
    "        self.W2 = \n",
    "        self.b2 = \n",
    "        \n",
    "        # set activation function\n",
    "        self.phi_1 = \n",
    "        self.phi_2 = \n",
    "        \n",
    "        # set derivative of activation functions\n",
    "        self.d_phi_1 = \n",
    "        self.d_phi_2 = \n",
    "        \n",
    "    def d_softmax(self, g):\n",
    "        # derivative of softmax\n",
    "        return \n",
    "    \n",
    "    def softmax(self, z):\n",
    "        # softmax\n",
    "        return \n",
    "    \n",
    "    def sigmoid(self, z):\n",
    "        # sigmoid\n",
    "        return \n",
    "    \n",
    "    def d_sigmoid(self, g):\n",
    "        # derivative of sigmoid\n",
    "        return \n",
    "    \n",
    "    def forward(self, X1):\n",
    "        '''\n",
    "        Forward pass through the network\n",
    "        \n",
    "        INPUT\n",
    "            X: input to network\n",
    "                shape: (?, 784)\n",
    "        \n",
    "        RETURN\n",
    "            Y_hat: prediction from output of network \n",
    "                shape: (?, 10)\n",
    "        '''\n",
    "        # store input for backward pass\n",
    "        \n",
    "        # compute layer one \n",
    "        \n",
    "        # second layer activations\n",
    "        \n",
    "        # predictions\n",
    "\n",
    "        return self.Y_hat\n",
    "    \n",
    "    def backward(self, Y_hat, Y):\n",
    "        '''\n",
    "        Backward pass through network. Update parameters \n",
    "        \n",
    "        INPUT\n",
    "            Y_hat: Network predicted \n",
    "                shape: (?, 10)\n",
    "            \n",
    "            Y: Correct target\n",
    "                shape: (?, 10)\n",
    "            \n",
    "        RETURN \n",
    "            cost: calculate J for errors \n",
    "                type: (float)\n",
    "            \n",
    "        '''\n",
    "        cost = \n",
    "        # dJ/dZ2 \n",
    "        dJ_dZ2 = \n",
    "        \n",
    "        # dJ/dW2 = dJ/dZ2 * dZ2/dW2\n",
    "        dJ_dW2 = \n",
    "        dJ_db2 = \n",
    "        \n",
    "        # dZ2/dX2 = dJ/dZ2 * dZ2/dX2\n",
    "        dZ2_dX2 = \n",
    "\n",
    "        # dX2/dZ1 = dZ2/dX2 * dX2/dZ1\n",
    "        dX2_dZ1 = \n",
    "\n",
    "        # dJ/dW1 = dJ/d * \n",
    "        dJ_dW1 = \n",
    "        dJ_db1 = \n",
    "        \n",
    "        # perform weight updates\n",
    "        self.W1 -= \n",
    "        self.b1 -= \n",
    "        self.W2 -= \n",
    "        self.b2 -= \n",
    "        \n",
    "        return cost"
   ]
  },
  {
   "cell_type": "code",
   "execution_count": 9,
   "metadata": {},
   "outputs": [
    {
     "name": "stdout",
     "output_type": "stream",
     "text": [
      "Epoch: 0, Train Accuracy: 40.24%, Train Cost: 2.43, Test Accuracy: 78.43%\n",
      "Epoch: 1, Train Accuracy: 84.62%, Train Cost: 0.86, Test Accuracy: 86.6%\n",
      "Epoch: 2, Train Accuracy: 88.65%, Train Cost: 0.66, Test Accuracy: 88.58%\n",
      "Epoch: 3, Train Accuracy: 89.81%, Train Cost: 0.59, Test Accuracy: 89.86%\n",
      "Epoch: 4, Train Accuracy: 90.37%, Train Cost: 0.55, Test Accuracy: 90.67%\n",
      "Epoch: 5, Train Accuracy: 90.75%, Train Cost: 0.53, Test Accuracy: 90.85%\n",
      "Epoch: 6, Train Accuracy: 91.03%, Train Cost: 0.52, Test Accuracy: 91.12%\n",
      "Epoch: 7, Train Accuracy: 91.25%, Train Cost: 0.51, Test Accuracy: 91.32%\n",
      "Epoch: 8, Train Accuracy: 91.46%, Train Cost: 0.5, Test Accuracy: 91.51%\n",
      "Epoch: 9, Train Accuracy: 91.62%, Train Cost: 0.49, Test Accuracy: 91.59%\n"
     ]
    }
   ],
   "source": [
    "nn = NeuralNetwork(200,10,lr=.01)\n",
    "num_train = float(len(x_train)); num_test = float(len(x_test))\n",
    "\n",
    "for epoch in range(10):\n",
    "    train_correct = 0; train_cost = 0\n",
    "    # training loop\n",
    "    for x,y in zip(x_train, y_train):\n",
    "        # standardizing input to range 0 to 1\n",
    "        X = x.reshape(1,784) /255.\n",
    "        \n",
    "        # forward pass through network\n",
    "        Y_hat = nn.forward(X)\n",
    "\n",
    "        # get pred number\n",
    "        pred_num = np.argmax(Y_hat)\n",
    "        \n",
    "        # check if prediction was accurate\n",
    "        if pred_num == y:\n",
    "            train_correct += 1\n",
    "            \n",
    "        zeros = np.zeros(10); zeros[y] = 1\n",
    "        Y = zeros\n",
    "        \n",
    "        # compute gradients and update weights\n",
    "        train_cost += nn.backward(Y_hat, Y)\n",
    "    \n",
    "    test_correct = 0\n",
    "    # validation loop\n",
    "    for x,y in zip(x_test, y_test):\n",
    "        # standardizing input to range 0 to 1\n",
    "        X = x.reshape(1,784) /255.\n",
    "        \n",
    "        # forward pass\n",
    "        Y_hat = nn.forward(X)\n",
    "        \n",
    "        # get pred number\n",
    "        pred_num = np.argmax(Y_hat)\n",
    "        \n",
    "        # check if prediction was correct\n",
    "        if pred_num == y:\n",
    "            test_correct += 1\n",
    "            \n",
    "        # no backward pass here!\n",
    "        \n",
    "    # compute average metrics for train and test\n",
    "    train_correct = round(100*(train_correct/num_train), 2)\n",
    "    test_correct = round(100*(test_correct/num_test ), 2)\n",
    "    train_cost = round( train_cost/num_train, 2)\n",
    "    \n",
    "    # print status message every epoch\n",
    "    log_message = 'Epoch: {}, Train Accuracy: {}%, Train Cost: {}, Test Accuracy: {}%'.format(epoch, train_correct, train_cost, test_correct)\n",
    "    print log_message"
   ]
  },
  {
   "cell_type": "code",
   "execution_count": 10,
   "metadata": {},
   "outputs": [
    {
     "data": {
      "image/png": "[encoded data removed]",
      "text/plain": [
       "<matplotlib.figure.Figure at 0x7feb9cb8c750>"
      ]
     },
     "metadata": {},
     "output_type": "display_data"
    }
   ],
   "source": [
    "X = x_test[0].reshape(1,784)\n",
    "Y_hat = nn.forward(X)[0]\n",
    "\n",
    "show_img(X,Y_hat)"
   ]
  },
  {
   "cell_type": "markdown",
   "metadata": {},
   "source": [
    "# Keras"
   ]
  },
  {
   "cell_type": "code",
   "execution_count": null,
   "metadata": {},
   "outputs": [],
   "source": [
    "from keras.models import Sequential\n",
    "from keras.layers.core import Dense\n",
    "\n",
    "# build model\n",
    "model = \n",
    "\n",
    "\n",
    "model.compile()\n",
    "\n",
    "model.fit()"
   ]
  }
 ],
 "metadata": {
  "kernelspec": {
   "display_name": "Python 2",
   "language": "python",
   "name": "python2"
  },
  "language_info": {
   "codemirror_mode": {
    "name": "ipython",
    "version": 2
   },
   "file_extension": ".py",
   "mimetype": "text/x-python",
   "name": "python",
   "nbconvert_exporter": "python",
   "pygments_lexer": "ipython2",
   "version": "2.7.12"
  }
 },
 "nbformat": 4,
 "nbformat_minor": 2
}
