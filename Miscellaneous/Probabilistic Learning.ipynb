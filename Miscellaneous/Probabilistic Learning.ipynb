{
 "cells": [
  {
   "cell_type": "markdown",
   "metadata": {},
   "source": [
    "# Probabilistic Learning\n",
    "---  \n",
    "For squared error, the optimal prediction is the mean value of y at every x  \n",
    "\n",
    "Model: $f_x = f(x;\\theta)$  \n",
    "$p(y|x)$ is often stochastic\n",
    "\n",
    "\\begin{equation}\n",
    "    \\mathop{\\mathbb{E}}_{p(y|x)} [(y-f_x)^2] = \\int_y (y-f_x)^2 p(y|x) dy\n",
    "\\end{equation}\n",
    "\n",
    "\\begin{equation}\n",
    "   = \\int_y (y^2 -2f_xy + f_x^2) p(y|x) dy\n",
    "\\end{equation}\n",
    "\n",
    "\\begin{equation}\n",
    "   = \\int_y y^2 p(y|x) dy - 2f_x \\int_y y p(y|x) dy + f_x^2 \\int_y p(y|x) dy\n",
    "\\end{equation}\n",
    "\n",
    "\n",
    "\\begin{equation}\n",
    "  \\frac{\\partial}{\\partial f_x} \\mathop{\\mathbb{E}}_{p(y|x)} [(y-f_x)^2]  = - 2\\mathop{\\mathbb{E}}_{p(y|x)} [y] + 2f_x = 0\n",
    "\\end{equation}\n",
    "\n",
    "\\begin{equation}\n",
    "   \\mathop{\\mathbb{E}}_{p(y|x)} [y] = f_x\n",
    "\\end{equation}"
   ]
  },
  {
   "cell_type": "code",
   "execution_count": null,
   "metadata": {},
   "outputs": [],
   "source": []
  }
 ],
 "metadata": {
  "kernelspec": {
   "display_name": "Python 2",
   "language": "python",
   "name": "python2"
  },
  "language_info": {
   "codemirror_mode": {
    "name": "ipython",
    "version": 2
   },
   "file_extension": ".py",
   "mimetype": "text/x-python",
   "name": "python",
   "nbconvert_exporter": "python",
   "pygments_lexer": "ipython2",
   "version": "2.7.15rc1"
  }
 },
 "nbformat": 4,
 "nbformat_minor": 2
}
