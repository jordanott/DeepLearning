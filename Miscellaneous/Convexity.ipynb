{
 "cells": [
  {
   "cell_type": "markdown",
   "metadata": {},
   "source": [
    "# Convexity of Log-Loss/Logistic Objective Function\n",
    "Consider a logistic regression model with parameters $\\theta$, and with labeled training data $D = {(x_i , y_i)}$, $1 ≤ i ≤ N$, where $y_i \\in \\{0, 1\\}$ are class labels and $x_i$ are d-dimensional feature vectors (you can assume that the first component of $x_i$ is set to the constant 1). The log-loss objective function (i.e., the negative of\n",
    "the log-likelihood for a 2-class problem) is convex as a function of the parameters θ. A function is convex if and only if the p × p Hessian matrix H of partial second derivatives\n",
    "(with respect to the p parameters) is positive semi-definite, i.e., $x^T Hx ≥ 0$ for any real-valued column vector x of dimension p. \n",
    "\n",
    "\n",
    "It is sufficient to show the Hessian of the loss function is positive semi-definite(PSD).The log loss or crossentropy error function is\n",
    "\n",
    "\\begin{equation}\n",
    "    \\mathcal{L} = \\sum_{i=1}^{N} -y_i \\log \\sigma(x_i \\theta) - (1 - y_i) \\log (1-\\sigma(x_i \\theta))\n",
    "\\end{equation}\n",
    "\n",
    "where $\\sigma$ is the logisitic function. The first partial derivative is (full derivation [here](https://github.com/jordanott/DeepLearning/tree/master/Miscellaneous/Logistic%20Regression.ipynb)): \n",
    "\\begin{equation}\n",
    "    \\frac{\\partial}{\\partial \\theta_j} = \\sum_{i=1}^{N} [\\sigma(x_i \\theta) - y_i] x_{i,j}\n",
    "\\end{equation}\n",
    "\n",
    "The second partial derivative is\n",
    "\\begin{equation}\n",
    "    \\frac{\\partial^2}{\\partial \\theta_j \\partial \\theta_k} = \\frac{\\partial}{\\partial \\theta_k} \\sum_{i=1}^{N} [\\sigma(x_i \\theta) - y_i] x_{i,j}\n",
    "\\end{equation}\n",
    "\n",
    "\\begin{equation}\n",
    "     = \\sum_{i=1}^{N} \\frac{\\partial}{\\partial \\theta_k} \\sigma(x_i \\theta)x_{i,j}\n",
    "\\end{equation}\n",
    "\n",
    "\\begin{equation}\n",
    "     = \\sum_{i=1}^{N} \\sigma(x_i \\theta)(1 - \\sigma(x_i \\theta))x_{i,j}x_{i,k}\n",
    "\\end{equation}\n",
    "\n",
    "For the on-diagonal terms $j=k$\n",
    "\\begin{equation}\n",
    "    \\frac{\\partial^2}{\\partial \\theta_j^2} =  \\sum_{i=1}^{N} \\sigma(x_i \\theta)(1 - \\sigma(x_i \\theta)) y_i x_{i,j}^2\n",
    "\\end{equation}\n",
    "\n",
    "A matrix $A$ is PSD if $\\forall c \\in \\mathbb{R}^d$ $c^T A c \\geq 0$\n",
    "\\begin{equation}\n",
    "c^T Ac = c^T[\\sum_{i=1}^{N} \\sigma(x_i \\theta)(1- \\sigma(x_i \\theta))x_{i}^T x_i ] c\n",
    "\\end{equation}\n",
    "\n",
    "\\begin{equation}\n",
    "= \\sum_{i=1}^{N} \\sigma(x_i \\theta)(1 − \\sigma(x_i \\theta))c^T x_i^T x_i c\n",
    "\\end{equation}\n",
    "\n",
    "\\begin{equation}\n",
    "= \\sum_{i=1}^{N} \\sigma(x_i \\theta)(1 − \\sigma(x_i \\theta))(x_i c)^T x_i c\n",
    "\\end{equation}\n",
    "\n",
    "\\begin{equation}\n",
    "= \\sum_{i=1}^{N} \\sigma(x_i \\theta)(1 − \\sigma(x_i \\theta))(x_i c)^2\n",
    "\\end{equation}\n",
    "\n",
    "\n",
    "\n",
    "Both $\\sigma(x_i\\theta)(1 − \\sigma(x_i\\theta)) ≥ 0$ and $(x_i c)^2 ≥ 0$, which implies the Hessian is PSD."
   ]
  }
 ],
 "metadata": {
  "kernelspec": {
   "display_name": "Python 2",
   "language": "python",
   "name": "python2"
  },
  "language_info": {
   "codemirror_mode": {
    "name": "ipython",
    "version": 2
   },
   "file_extension": ".py",
   "mimetype": "text/x-python",
   "name": "python",
   "nbconvert_exporter": "python",
   "pygments_lexer": "ipython2",
   "version": "2.7.15rc1"
  }
 },
 "nbformat": 4,
 "nbformat_minor": 2
}
