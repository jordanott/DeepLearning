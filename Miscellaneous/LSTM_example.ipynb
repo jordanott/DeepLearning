{
 "cells": [
  {
   "cell_type": "code",
   "execution_count": 1,
   "metadata": {},
   "outputs": [],
   "source": [
    "import warnings\n",
    "warnings.filterwarnings('ignore')"
   ]
  },
  {
   "cell_type": "code",
   "execution_count": 2,
   "metadata": {},
   "outputs": [
    {
     "name": "stderr",
     "output_type": "stream",
     "text": [
      "Using TensorFlow backend.\n"
     ]
    }
   ],
   "source": [
    "import numpy as np\n",
    "from keras.models import Sequential\n",
    "from keras.utils import to_categorical\n",
    "from keras.layers import Embedding, LSTM, Dense"
   ]
  },
  {
   "cell_type": "code",
   "execution_count": 3,
   "metadata": {},
   "outputs": [
    {
     "name": "stdout",
     "output_type": "stream",
     "text": [
      "There are 250 unique words in my vocab and 100 sentences...\n"
     ]
    }
   ],
   "source": [
    "num_words_in_vocab = 250\n",
    "max_sentence_length = 100\n",
    "\n",
    "print('There are', num_words_in_vocab, 'unique words in my vocab and', max_sentence_length, 'sentences...')"
   ]
  },
  {
   "cell_type": "code",
   "execution_count": 4,
   "metadata": {},
   "outputs": [
    {
     "name": "stdout",
     "output_type": "stream",
     "text": [
      "Model: \"sequential_1\"\n",
      "_________________________________________________________________\n",
      "Layer (type)                 Output Shape              Param #   \n",
      "=================================================================\n",
      "embedding_1 (Embedding)      (None, 100, 128)          32000     \n",
      "_________________________________________________________________\n",
      "lstm_1 (LSTM)                (None, 100, 256)          394240    \n",
      "_________________________________________________________________\n",
      "dense_1 (Dense)              (None, 100, 250)          64250     \n",
      "=================================================================\n",
      "Total params: 490,490\n",
      "Trainable params: 490,490\n",
      "Non-trainable params: 0\n",
      "_________________________________________________________________\n"
     ]
    }
   ],
   "source": [
    "model = Sequential()\n",
    "model.add(Embedding(num_words_in_vocab, 128, input_length=max_sentence_length))\n",
    "model.add(LSTM(256, return_sequences=True))\n",
    "model.add(Dense(num_words_in_vocab, activation='softmax'))\n",
    "\n",
    "model.compile(loss='categorical_crossentropy', optimizer='sgd')\n",
    "model.summary()"
   ]
  },
  {
   "cell_type": "code",
   "execution_count": 5,
   "metadata": {},
   "outputs": [],
   "source": [
    "X = np.random.randint(1, num_words_in_vocab, size=(10, max_sentence_length))\n",
    "Y = to_categorical(X, num_classes=num_words_in_vocab)"
   ]
  },
  {
   "cell_type": "code",
   "execution_count": 6,
   "metadata": {},
   "outputs": [
    {
     "name": "stdout",
     "output_type": "stream",
     "text": [
      "Input shape: (10, 100) Target shape: (10, 100, 250)\n"
     ]
    }
   ],
   "source": [
    "print('Input shape:', X.shape, 'Target shape:', Y.shape)"
   ]
  },
  {
   "cell_type": "code",
   "execution_count": 7,
   "metadata": {},
   "outputs": [
    {
     "name": "stdout",
     "output_type": "stream",
     "text": [
      "WARNING:tensorflow:From /home/jordan/.local/lib/python3.6/site-packages/tensorflow/python/ops/math_grad.py:1250: add_dispatch_support.<locals>.wrapper (from tensorflow.python.ops.array_ops) is deprecated and will be removed in a future version.\n",
      "Instructions for updating:\n",
      "Use tf.where in 2.0, which has the same broadcast rule as np.where\n",
      "WARNING:tensorflow:From /home/jordan/.local/lib/python3.6/site-packages/keras/backend/tensorflow_backend.py:422: The name tf.global_variables is deprecated. Please use tf.compat.v1.global_variables instead.\n",
      "\n",
      "Epoch 1/10\n",
      "10/10 [==============================] - 0s 46ms/step - loss: 5.5215\n",
      "Epoch 2/10\n",
      "10/10 [==============================] - 0s 26ms/step - loss: 5.5215\n",
      "Epoch 3/10\n",
      "10/10 [==============================] - 0s 27ms/step - loss: 5.5214\n",
      "Epoch 4/10\n",
      "10/10 [==============================] - 0s 19ms/step - loss: 5.5214\n",
      "Epoch 5/10\n",
      "10/10 [==============================] - 0s 11ms/step - loss: 5.5214\n",
      "Epoch 6/10\n",
      "10/10 [==============================] - 0s 16ms/step - loss: 5.5214\n",
      "Epoch 7/10\n",
      "10/10 [==============================] - 0s 15ms/step - loss: 5.5213\n",
      "Epoch 8/10\n",
      "10/10 [==============================] - 0s 16ms/step - loss: 5.5213\n",
      "Epoch 9/10\n",
      "10/10 [==============================] - 0s 12ms/step - loss: 5.5213\n",
      "Epoch 10/10\n",
      "10/10 [==============================] - 0s 13ms/step - loss: 5.5213\n"
     ]
    },
    {
     "data": {
      "text/plain": [
       "<keras.callbacks.callbacks.History at 0x7f62dd037ba8>"
      ]
     },
     "execution_count": 7,
     "metadata": {},
     "output_type": "execute_result"
    }
   ],
   "source": [
    "model.fit(X, Y, epochs=10)"
   ]
  }
 ],
 "metadata": {
  "kernelspec": {
   "display_name": "Python 3",
   "language": "python",
   "name": "python3"
  },
  "language_info": {
   "codemirror_mode": {
    "name": "ipython",
    "version": 3
   },
   "file_extension": ".py",
   "mimetype": "text/x-python",
   "name": "python",
   "nbconvert_exporter": "python",
   "pygments_lexer": "ipython3",
   "version": "3.6.8"
  }
 },
 "nbformat": 4,
 "nbformat_minor": 4
}
